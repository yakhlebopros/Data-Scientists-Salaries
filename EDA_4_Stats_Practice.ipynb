{
 "cells": [
  {
   "cell_type": "markdown",
   "metadata": {},
   "source": [
    "# <center> Practice: Statistical Tests in the Context of EDA"
   ]
  },
  {
   "cell_type": "markdown",
   "metadata": {},
   "source": [
    "## Task Discription: \n",
    "\n",
    "An HR agency is studying labor market trends in IT. The company aims to conduct research based on salary data in the IT industry for the years 2020–2022.\n",
    "\n",
    "This research aims to identify the **key factors influencing the salaries of Data Scientists**. Additionally, it will address key questions posed by the HR agency, including:\n",
    "\n",
    "* Is there an annual salary increase for Data Scientists?\n",
    "* How do Data Scientist and Data Engineer salaries compare in 2022?\n",
    "* How do Data Scientist salaries vary across companies of different sizes?\n",
    "* Is there a correlation between the presence of Data Scientist and Data Engineer roles and company size?\n",
    "\n",
    "Any other notable patterns found in the data will also be highlighted in the analysis.\n",
    "\n",
    "**To ensure statistical validity**, various tests will be applied to assess the significance of the findings, including:\n",
    "\n",
    "* Tests for continuous variables:\n",
    "    * Single-sample tests\n",
    "    * Two-sample tests\n",
    "    * Multiple-sample tests\n",
    "* A test for categorical variables.\n",
    "\n",
    "__The data set includes:__\n",
    "* **work_year** – The year in which the salary was paid.\n",
    "* **experience_level** – The level of experience for this position during the year, with the following possible values:\n",
    "    * **EN** – Entry-level/Junior\n",
    "    * **MI** – Mid-level/Intermediate\n",
    "    * **SE** – Senior-level/Expert\n",
    "    * **EX** – Executive-level/Director\n",
    "* **employment_type** – Type of employment for this role:\n",
    "    * **PT** – Part-time\n",
    "    * **FT** – Full-time\n",
    "    * **CT** – Contract\n",
    "    * **FL** – Freelance\n",
    "* **job_title** – The role in which the employee worked during the year.\n",
    "* **salary** – The total gross salary paid.\n",
    "* **salary_currency** – The currency in which the salary was paid, represented as an ISO 4217 currency code.\n",
    "* **salary_in_usd** – Salary converted to US dollars (exchange rate divided by the average USD rate for the corresponding year via fxdata.foorilla.com).\n",
    "* **employee_residence** – The primary country of residence of the employee during the work year, represented as an ISO 3166 country code.\n",
    "* **remote_ratio** – The proportion of work performed remotely, with possible values:\n",
    "    * **0** – No remote work (less than 20%)\n",
    "    * **50** – Partially remote work\n",
    "    * **100** – Fully remote work (more than 80%)\n",
    "* **company_location** – The country of the employer’s headquarters or contract-based branch, represented as an ISO 3166 country code.\n",
    "* **company_size** – The average number of employees working at the company during the year:\n",
    "    * **S** – Fewer than 50 employees (small company)\n",
    "    * **M** – 50 to 250 employees (medium company)\n",
    "    * **L** – More than 250 employees (large company)"
   ]
  },
  {
   "cell_type": "markdown",
   "metadata": {},
   "source": [
    "## Data Loading"
   ]
  },
  {
   "cell_type": "code",
   "execution_count": 60,
   "metadata": {},
   "outputs": [],
   "source": [
    "\n",
    "# import libraries\n",
    "import pandas as pd\n",
    "import numpy as np\n",
    "\n",
    "from scipy import stats\n",
    "from scipy.stats import chi2_contingency\n",
    "\n",
    "import statsmodels.api as sm\n",
    "from statsmodels import stats as sms\n",
    "\n",
    "\n",
    "import matplotlib.pyplot as plt\n",
    "import seaborn as sns\n",
    "\n",
    "# visual settings for the graphs\n",
    "sns.set_theme(\"notebook\") \n",
    "sns.set_palette(\"Set2\") "
   ]
  },
  {
   "cell_type": "code",
   "execution_count": 61,
   "metadata": {},
   "outputs": [
    {
     "data": {
      "text/html": [
       "<div>\n",
       "<style scoped>\n",
       "    .dataframe tbody tr th:only-of-type {\n",
       "        vertical-align: middle;\n",
       "    }\n",
       "\n",
       "    .dataframe tbody tr th {\n",
       "        vertical-align: top;\n",
       "    }\n",
       "\n",
       "    .dataframe thead th {\n",
       "        text-align: right;\n",
       "    }\n",
       "</style>\n",
       "<table border=\"1\" class=\"dataframe\">\n",
       "  <thead>\n",
       "    <tr style=\"text-align: right;\">\n",
       "      <th></th>\n",
       "      <th>Unnamed: 0</th>\n",
       "      <th>work_year</th>\n",
       "      <th>experience_level</th>\n",
       "      <th>employment_type</th>\n",
       "      <th>job_title</th>\n",
       "      <th>salary</th>\n",
       "      <th>salary_currency</th>\n",
       "      <th>salary_in_usd</th>\n",
       "      <th>employee_residence</th>\n",
       "      <th>remote_ratio</th>\n",
       "      <th>company_location</th>\n",
       "      <th>company_size</th>\n",
       "    </tr>\n",
       "  </thead>\n",
       "  <tbody>\n",
       "    <tr>\n",
       "      <th>0</th>\n",
       "      <td>0</td>\n",
       "      <td>2020</td>\n",
       "      <td>MI</td>\n",
       "      <td>FT</td>\n",
       "      <td>Data Scientist</td>\n",
       "      <td>70000</td>\n",
       "      <td>EUR</td>\n",
       "      <td>79833</td>\n",
       "      <td>DE</td>\n",
       "      <td>0</td>\n",
       "      <td>DE</td>\n",
       "      <td>L</td>\n",
       "    </tr>\n",
       "    <tr>\n",
       "      <th>1</th>\n",
       "      <td>1</td>\n",
       "      <td>2020</td>\n",
       "      <td>SE</td>\n",
       "      <td>FT</td>\n",
       "      <td>Machine Learning Scientist</td>\n",
       "      <td>260000</td>\n",
       "      <td>USD</td>\n",
       "      <td>260000</td>\n",
       "      <td>JP</td>\n",
       "      <td>0</td>\n",
       "      <td>JP</td>\n",
       "      <td>S</td>\n",
       "    </tr>\n",
       "    <tr>\n",
       "      <th>2</th>\n",
       "      <td>2</td>\n",
       "      <td>2020</td>\n",
       "      <td>SE</td>\n",
       "      <td>FT</td>\n",
       "      <td>Big Data Engineer</td>\n",
       "      <td>85000</td>\n",
       "      <td>GBP</td>\n",
       "      <td>109024</td>\n",
       "      <td>GB</td>\n",
       "      <td>50</td>\n",
       "      <td>GB</td>\n",
       "      <td>M</td>\n",
       "    </tr>\n",
       "    <tr>\n",
       "      <th>3</th>\n",
       "      <td>3</td>\n",
       "      <td>2020</td>\n",
       "      <td>MI</td>\n",
       "      <td>FT</td>\n",
       "      <td>Product Data Analyst</td>\n",
       "      <td>20000</td>\n",
       "      <td>USD</td>\n",
       "      <td>20000</td>\n",
       "      <td>HN</td>\n",
       "      <td>0</td>\n",
       "      <td>HN</td>\n",
       "      <td>S</td>\n",
       "    </tr>\n",
       "    <tr>\n",
       "      <th>4</th>\n",
       "      <td>4</td>\n",
       "      <td>2020</td>\n",
       "      <td>SE</td>\n",
       "      <td>FT</td>\n",
       "      <td>Machine Learning Engineer</td>\n",
       "      <td>150000</td>\n",
       "      <td>USD</td>\n",
       "      <td>150000</td>\n",
       "      <td>US</td>\n",
       "      <td>50</td>\n",
       "      <td>US</td>\n",
       "      <td>L</td>\n",
       "    </tr>\n",
       "  </tbody>\n",
       "</table>\n",
       "</div>"
      ],
      "text/plain": [
       "   Unnamed: 0  work_year experience_level employment_type  \\\n",
       "0           0       2020               MI              FT   \n",
       "1           1       2020               SE              FT   \n",
       "2           2       2020               SE              FT   \n",
       "3           3       2020               MI              FT   \n",
       "4           4       2020               SE              FT   \n",
       "\n",
       "                    job_title  salary salary_currency  salary_in_usd  \\\n",
       "0              Data Scientist   70000             EUR          79833   \n",
       "1  Machine Learning Scientist  260000             USD         260000   \n",
       "2           Big Data Engineer   85000             GBP         109024   \n",
       "3        Product Data Analyst   20000             USD          20000   \n",
       "4   Machine Learning Engineer  150000             USD         150000   \n",
       "\n",
       "  employee_residence  remote_ratio company_location company_size  \n",
       "0                 DE             0               DE            L  \n",
       "1                 JP             0               JP            S  \n",
       "2                 GB            50               GB            M  \n",
       "3                 HN             0               HN            S  \n",
       "4                 US            50               US            L  "
      ]
     },
     "execution_count": 61,
     "metadata": {},
     "output_type": "execute_result"
    }
   ],
   "source": [
    "# read dataset\n",
    "data = pd.read_csv('data/ds_salaries.csv')\n",
    "data.head()"
   ]
  },
  {
   "cell_type": "markdown",
   "metadata": {},
   "source": [
    "## Setting the Significance Level\n"
   ]
  },
  {
   "cell_type": "code",
   "execution_count": 62,
   "metadata": {},
   "outputs": [
    {
     "name": "stdout",
     "output_type": "stream",
     "text": [
      "Significance level alpha = 0.05\n"
     ]
    }
   ],
   "source": [
    "# set significance level\n",
    "alpha = 0.05 \n",
    "print(\"Significance level alpha = {:.2f}\".format(alpha))"
   ]
  },
  {
   "cell_type": "markdown",
   "metadata": {},
   "source": [
    "## Descriptive Data Analysis"
   ]
  },
  {
   "cell_type": "code",
   "execution_count": 63,
   "metadata": {},
   "outputs": [
    {
     "name": "stdout",
     "output_type": "stream",
     "text": [
      "<class 'pandas.core.frame.DataFrame'>\n",
      "RangeIndex: 607 entries, 0 to 606\n",
      "Data columns (total 12 columns):\n",
      " #   Column              Non-Null Count  Dtype \n",
      "---  ------              --------------  ----- \n",
      " 0   Unnamed: 0          607 non-null    int64 \n",
      " 1   work_year           607 non-null    int64 \n",
      " 2   experience_level    607 non-null    object\n",
      " 3   employment_type     607 non-null    object\n",
      " 4   job_title           607 non-null    object\n",
      " 5   salary              607 non-null    int64 \n",
      " 6   salary_currency     607 non-null    object\n",
      " 7   salary_in_usd       607 non-null    int64 \n",
      " 8   employee_residence  607 non-null    object\n",
      " 9   remote_ratio        607 non-null    int64 \n",
      " 10  company_location    607 non-null    object\n",
      " 11  company_size        607 non-null    object\n",
      "dtypes: int64(5), object(7)\n",
      "memory usage: 57.0+ KB\n"
     ]
    }
   ],
   "source": [
    "data.info()"
   ]
  },
  {
   "cell_type": "code",
   "execution_count": 64,
   "metadata": {},
   "outputs": [
    {
     "name": "stdout",
     "output_type": "stream",
     "text": [
      "The dataset contais 607 rows with 0 missing values.\n"
     ]
    }
   ],
   "source": [
    "# count the number of records in the dataset\n",
    "record_count = data.dropna().shape[0]\n",
    "\n",
    "# count the number of missing values in each column\n",
    "missing_values = data.isnull().sum().sum()\n",
    "\n",
    "print(f'The dataset contais {record_count} rows with {missing_values} missing values.')\n",
    "\n"
   ]
  },
  {
   "cell_type": "markdown",
   "metadata": {},
   "source": [
    "Checking for duplicated rows"
   ]
  },
  {
   "cell_type": "code",
   "execution_count": 65,
   "metadata": {},
   "outputs": [
    {
     "name": "stdout",
     "output_type": "stream",
     "text": [
      "Duplicates count: 0\n"
     ]
    }
   ],
   "source": [
    "# count duplicates\n",
    "print(f\"Duplicates count: {data.duplicated().sum()}\")\n",
    "\n",
    "# remove duplicates \n",
    "# data = data.drop_duplicates()\n",
    "# print(f'Size after removing the duplicates: {format(data.shape)}')"
   ]
  },
  {
   "cell_type": "markdown",
   "metadata": {},
   "source": [
    "Checking data types"
   ]
  },
  {
   "cell_type": "code",
   "execution_count": 66,
   "metadata": {},
   "outputs": [
    {
     "data": {
      "text/plain": [
       "Unnamed: 0             int64\n",
       "work_year              int64\n",
       "experience_level      object\n",
       "employment_type       object\n",
       "job_title             object\n",
       "salary                 int64\n",
       "salary_currency       object\n",
       "salary_in_usd          int64\n",
       "employee_residence    object\n",
       "remote_ratio           int64\n",
       "company_location      object\n",
       "company_size          object\n",
       "dtype: object"
      ]
     },
     "execution_count": 66,
     "metadata": {},
     "output_type": "execute_result"
    }
   ],
   "source": [
    "data.dtypes"
   ]
  },
  {
   "cell_type": "markdown",
   "metadata": {},
   "source": [
    "Features directly relevant to the scope of the research:\n",
    "* **work_year** for analyzing salary trends over time.\n",
    "* **salary_in_usd** as a standartised salary for comparison.\n",
    "* **job_title** to filter Data Scientist and Data Engeneer roles for analysis.\n",
    "* **company_size** for comparing salaries across companies of different sizes.\n",
    "\n",
    "The following features are to be removed from the dataset:\n",
    "* **salary** as we will use salary_in_usd\n",
    "* **salary_currency** redundant as well\n",
    "* **row number (Unnamed: 0)** as indexes are not to be used in the analysis\n",
    "\n",
    "The following features, although not directly relevant to the research questions will be kept in order to analyse the factors that can influence salaries of Data Scientists:\n",
    "* **employment_type** may affect salary based on job contract type.\n",
    "* **remote_ratio** for comparing salaries based on the remote/on-site work ratio.\n",
    "* **employee_residence** for geographic salary analysis.\n",
    "* **company_location** for regional salary analysis.\n",
    "\n",
    "\"We retain these features to ensure the data remains comparable, allowing for accurate salary comparisons across similar roles and working conditions.\"\n",
    "* **employment_type**\n",
    "* **experience_level**"
   ]
  },
  {
   "cell_type": "code",
   "execution_count": 67,
   "metadata": {},
   "outputs": [
    {
     "data": {
      "text/html": [
       "<div>\n",
       "<style scoped>\n",
       "    .dataframe tbody tr th:only-of-type {\n",
       "        vertical-align: middle;\n",
       "    }\n",
       "\n",
       "    .dataframe tbody tr th {\n",
       "        vertical-align: top;\n",
       "    }\n",
       "\n",
       "    .dataframe thead th {\n",
       "        text-align: right;\n",
       "    }\n",
       "</style>\n",
       "<table border=\"1\" class=\"dataframe\">\n",
       "  <thead>\n",
       "    <tr style=\"text-align: right;\">\n",
       "      <th></th>\n",
       "      <th>work_year</th>\n",
       "      <th>experience_level</th>\n",
       "      <th>employment_type</th>\n",
       "      <th>job_title</th>\n",
       "      <th>salary_in_usd</th>\n",
       "      <th>employee_residence</th>\n",
       "      <th>remote_ratio</th>\n",
       "      <th>company_location</th>\n",
       "      <th>company_size</th>\n",
       "    </tr>\n",
       "  </thead>\n",
       "  <tbody>\n",
       "    <tr>\n",
       "      <th>0</th>\n",
       "      <td>2020</td>\n",
       "      <td>MI</td>\n",
       "      <td>FT</td>\n",
       "      <td>Data Scientist</td>\n",
       "      <td>79833</td>\n",
       "      <td>DE</td>\n",
       "      <td>0</td>\n",
       "      <td>DE</td>\n",
       "      <td>L</td>\n",
       "    </tr>\n",
       "    <tr>\n",
       "      <th>1</th>\n",
       "      <td>2020</td>\n",
       "      <td>SE</td>\n",
       "      <td>FT</td>\n",
       "      <td>Machine Learning Scientist</td>\n",
       "      <td>260000</td>\n",
       "      <td>JP</td>\n",
       "      <td>0</td>\n",
       "      <td>JP</td>\n",
       "      <td>S</td>\n",
       "    </tr>\n",
       "    <tr>\n",
       "      <th>2</th>\n",
       "      <td>2020</td>\n",
       "      <td>SE</td>\n",
       "      <td>FT</td>\n",
       "      <td>Big Data Engineer</td>\n",
       "      <td>109024</td>\n",
       "      <td>GB</td>\n",
       "      <td>50</td>\n",
       "      <td>GB</td>\n",
       "      <td>M</td>\n",
       "    </tr>\n",
       "    <tr>\n",
       "      <th>3</th>\n",
       "      <td>2020</td>\n",
       "      <td>MI</td>\n",
       "      <td>FT</td>\n",
       "      <td>Product Data Analyst</td>\n",
       "      <td>20000</td>\n",
       "      <td>HN</td>\n",
       "      <td>0</td>\n",
       "      <td>HN</td>\n",
       "      <td>S</td>\n",
       "    </tr>\n",
       "    <tr>\n",
       "      <th>4</th>\n",
       "      <td>2020</td>\n",
       "      <td>SE</td>\n",
       "      <td>FT</td>\n",
       "      <td>Machine Learning Engineer</td>\n",
       "      <td>150000</td>\n",
       "      <td>US</td>\n",
       "      <td>50</td>\n",
       "      <td>US</td>\n",
       "      <td>L</td>\n",
       "    </tr>\n",
       "  </tbody>\n",
       "</table>\n",
       "</div>"
      ],
      "text/plain": [
       "   work_year experience_level employment_type                   job_title  \\\n",
       "0       2020               MI              FT              Data Scientist   \n",
       "1       2020               SE              FT  Machine Learning Scientist   \n",
       "2       2020               SE              FT           Big Data Engineer   \n",
       "3       2020               MI              FT        Product Data Analyst   \n",
       "4       2020               SE              FT   Machine Learning Engineer   \n",
       "\n",
       "   salary_in_usd employee_residence  remote_ratio company_location  \\\n",
       "0          79833                 DE             0               DE   \n",
       "1         260000                 JP             0               JP   \n",
       "2         109024                 GB            50               GB   \n",
       "3          20000                 HN             0               HN   \n",
       "4         150000                 US            50               US   \n",
       "\n",
       "  company_size  \n",
       "0            L  \n",
       "1            S  \n",
       "2            M  \n",
       "3            S  \n",
       "4            L  "
      ]
     },
     "execution_count": 67,
     "metadata": {},
     "output_type": "execute_result"
    }
   ],
   "source": [
    "# remove irrelevant features\n",
    "columns_to_remove = [\"salary\", \"salary_currency\", \"Unnamed: 0\"]  \n",
    "data = data.drop(columns=columns_to_remove)\n",
    "data.head()"
   ]
  },
  {
   "cell_type": "markdown",
   "metadata": {},
   "source": [
    "Classifying remaining features into numeric and categorical"
   ]
  },
  {
   "cell_type": "code",
   "execution_count": 68,
   "metadata": {},
   "outputs": [
    {
     "data": {
      "text/plain": [
       "experience_level       4\n",
       "employment_type        4\n",
       "job_title             50\n",
       "employee_residence    57\n",
       "company_location      50\n",
       "company_size           3\n",
       "dtype: int64"
      ]
     },
     "execution_count": 68,
     "metadata": {},
     "output_type": "execute_result"
    }
   ],
   "source": [
    "data[[\"experience_level\", \"employment_type\", \"job_title\", \"employee_residence\", \"company_location\", \"company_size\"]].nunique()\n"
   ]
  },
  {
   "cell_type": "markdown",
   "metadata": {},
   "source": [
    "The dataset contains\n",
    "\n",
    "**Numerical Features** (Continuous & Discrete)\n",
    "* **work_year** (Discrete)\n",
    "* **salary_in_usd** (Continuous) \n",
    "* **remote_ratio** (Discrete) \n",
    "\n",
    "**Categorical Features**\n",
    "* **experience_level** (4 unique values(UnV))\n",
    "* **employment_type** (4 UnV)\n",
    "* **job_title** (50 UnV).\n",
    "* **employee_residence** (57 UnV).\n",
    "* **company_location** (50).\n",
    "* **company_size** (3 UnV)."
   ]
  },
  {
   "cell_type": "markdown",
   "metadata": {},
   "source": [
    "Next, we will explore how Data Scientist jobs are distributed across different values for all the features."
   ]
  },
  {
   "cell_type": "code",
   "execution_count": 69,
   "metadata": {},
   "outputs": [
    {
     "name": "stdout",
     "output_type": "stream",
     "text": [
      "work_year               3\n",
      "experience_level        3\n",
      "employment_type         3\n",
      "job_title               1\n",
      "salary_in_usd         108\n",
      "employee_residence     27\n",
      "remote_ratio            3\n",
      "company_location       24\n",
      "company_size            3\n",
      "dtype: int64\n"
     ]
    }
   ],
   "source": [
    "# filter the DataFrame where job_title is 'Data Scientist'\n",
    "filtered_data = data[data['job_title'] == 'Data Scientist']\n",
    "\n",
    "# calculate the number of unique values for each column\n",
    "unique_values = filtered_data.nunique()\n",
    "\n",
    "# display the result\n",
    "print(unique_values)"
   ]
  },
  {
   "cell_type": "code",
   "execution_count": 70,
   "metadata": {},
   "outputs": [
    {
     "name": "stdout",
     "output_type": "stream",
     "text": [
      "['MI' 'EN' 'SE']\n"
     ]
    }
   ],
   "source": [
    "# get the unique values for the 'experience_level' column\n",
    "unique_experience_levels = filtered_data['experience_level'].unique()\n",
    "\n",
    "print(unique_experience_levels)\n"
   ]
  },
  {
   "cell_type": "markdown",
   "metadata": {},
   "source": [
    "\n",
    "**Note:** the present dataset only shows Data Scientists to work at entry/junior, mid, and senior level, but not at the expert level. Having looked at the dataset, Executive Data Science roles are listed under different titles, such as Head of Data (Science) or Data Science Manager. To address this issue, from now on we will filter for any title that contains \"data sc\" and not only Data Scientist directly."
   ]
  },
  {
   "cell_type": "code",
   "execution_count": 71,
   "metadata": {},
   "outputs": [
    {
     "name": "stdout",
     "output_type": "stream",
     "text": [
      "['Data Scientist', 'Machine Learning Scientist', 'Big Data Engineer', 'Product Data Analyst', 'Machine Learning Engineer', 'Data Analyst', 'Lead Data Scientist', 'Data Scientist', 'Business Data Analyst', 'Lead Data Engineer', 'Data Scientist', 'Data Scientist', 'Data Scientist', 'Lead Data Analyst', 'Data Analyst', 'Data Analyst', 'Data Engineer', 'Big Data Engineer', 'Data Science Consultant', 'Lead Data Engineer', 'Machine Learning Engineer', 'Product Data Analyst', 'Data Engineer', 'BI Data Analyst', 'Lead Data Scientist', 'Director of Data Science', 'Research Scientist', 'Data Engineer', 'Business Data Analyst', 'Machine Learning Manager', 'Data Engineering Manager', 'Big Data Engineer', 'Data Scientist', 'Research Scientist', 'Data Analyst', 'Data Engineer', 'Data Science Consultant', 'Machine Learning Engineer', 'Data Analyst', 'Machine Learning Engineer', 'Data Scientist', 'Data Engineering Manager', 'Machine Learning Infrastructure Engineer', 'Data Engineer', 'Data Engineer', 'ML Engineer', 'Data Scientist', 'Data Engineer', 'Data Scientist', 'Data Engineer', 'Data Analyst', 'Data Analyst', 'AI Scientist', 'Data Engineer', 'Computer Vision Engineer', 'Principal Data Scientist', 'Data Scientist', 'Data Scientist', 'Data Scientist', 'Data Scientist', 'Data Engineer', 'Data Engineer', 'Data Scientist', 'Data Scientist', 'Machine Learning Engineer', 'Data Scientist', 'Data Scientist', 'Data Science Manager', 'Data Scientist', 'Data Scientist', 'Data Scientist', 'Data Scientist', 'Research Scientist', 'BI Data Analyst', 'Head of Data', 'Data Scientist', 'BI Data Analyst', '3D Computer Vision Researcher', 'ML Engineer', 'Data Analyst', 'Data Analytics Engineer', 'Data Engineer', 'Applied Data Scientist', 'Machine Learning Engineer', 'Director of Data Science', 'Data Engineer', 'Data Analyst', 'Data Analytics Engineer', 'Lead Data Analyst', 'Data Analyst', 'Marketing Data Analyst', 'Data Science Consultant', 'Lead Data Analyst', 'Lead Data Engineer', 'Data Scientist', 'Cloud Data Engineer', 'AI Scientist', 'Financial Data Analyst', 'Computer Vision Software Engineer', 'Computer Vision Software Engineer', 'Data Analyst', 'Data Engineer', 'BI Data Analyst', 'Data Analyst', 'Data Scientist', 'Data Analyst', 'Research Scientist', 'Data Engineer', 'Data Engineer', 'Data Engineer', 'Machine Learning Engineer', 'Director of Data Engineering', 'Lead Data Engineer', 'AI Scientist', 'Data Engineer', 'Machine Learning Scientist', 'Data Scientist', 'Data Science Engineer', 'Data Analyst', 'Data Engineer', 'Big Data Engineer', 'Principal Data Engineer', 'Data Analyst', 'Applied Data Scientist', 'Data Analyst', 'Principal Data Scientist', 'Machine Learning Scientist', 'Data Scientist', 'Machine Learning Engineer', 'Lead Data Scientist', 'Machine Learning Developer', 'Data Scientist', 'Applied Machine Learning Scientist', 'Computer Vision Engineer', 'Data Scientist', 'Data Analyst', 'ML Engineer', 'ML Engineer', 'Principal Data Scientist', 'Data Scientist', 'Data Analyst', 'Data Science Manager', 'Data Engineering Manager', 'Data Scientist', 'Data Engineer', 'Machine Learning Engineer', 'Research Scientist', 'Data Engineer', 'Data Engineering Manager', 'Cloud Data Engineer', 'Director of Data Science', 'Data Scientist', 'Data Scientist', 'Data Scientist', 'Data Science Manager', 'Data Science Engineer', 'Data Scientist', 'Applied Machine Learning Scientist', 'Data Analytics Manager', 'Machine Learning Engineer', 'Head of Data', 'Head of Data Science', 'Data Engineer', 'Data Science Consultant', 'Director of Data Science', 'Data Specialist', 'Data Engineer', 'Director of Data Science', 'BI Data Analyst', 'Data Architect', 'Data Architect', 'Data Engineer', 'Data Analyst', 'Principal Data Scientist', 'Research Scientist', 'Data Engineering Manager', 'Data Scientist', 'Data Scientist', 'Machine Learning Engineer', 'Data Scientist', 'Big Data Engineer', 'Data Scientist', 'Data Engineer', 'Finance Data Analyst', 'Machine Learning Scientist', 'Data Engineer', 'Data Analytics Engineer', 'Data Science Consultant', 'Data Engineer', 'Machine Learning Engineer', 'Data Science Manager', 'Machine Learning Engineer', 'Big Data Engineer', 'Data Science Manager', 'Research Scientist', 'Data Scientist', 'BI Data Analyst', 'Machine Learning Engineer', 'Data Science Manager', 'Data Science Consultant', 'Data Scientist', 'Machine Learning Infrastructure Engineer', 'Data Scientist', 'Research Scientist', 'Data Scientist', 'Data Scientist', 'Machine Learning Engineer', 'Data Engineer', 'Data Engineer', 'Data Analytics Manager', 'Machine Learning Engineer', 'Research Scientist', 'Data Engineer', 'Big Data Engineer', 'Machine Learning Engineer', 'Principal Data Engineer', 'Computer Vision Engineer', 'Data Scientist', 'Machine Learning Engineer', 'Data Analytics Manager', 'Machine Learning Engineer', 'Data Scientist', 'Data Scientist', 'Data Scientist', 'Machine Learning Scientist', 'Principal Data Scientist', 'Data Scientist', 'Data Scientist', 'Data Scientist', 'Data Analyst', 'Big Data Engineer', 'ML Engineer', 'Director of Data Engineering', 'Data Analyst', 'Data Architect', 'Head of Data Science', 'Research Scientist', 'Data Scientist', 'Data Scientist', 'Data Engineer', 'Data Scientist', 'Data Analyst', 'Data Engineer', 'Data Scientist', 'AI Scientist', 'Data Engineer', 'Data Scientist', 'Data Engineer', 'Data Engineer', 'Principal Data Analyst', 'Data Scientist', 'Data Scientist', 'Principal Data Engineer', 'Data Scientist', 'Data Analyst', 'Big Data Architect', 'Data Engineer', 'Principal Data Scientist', 'Machine Learning Engineer', 'Director of Data Science', 'Data Scientist', 'Data Analyst', 'Data Scientist', 'Machine Learning Engineer', 'Data Scientist', 'Lead Data Engineer', 'Data Engineer', 'Data Engineer', 'Data Engineer', 'Data Engineer', 'Data Engineer', 'Computer Vision Engineer', 'Data Science Consultant', 'Machine Learning Engineer', 'Data Scientist', 'Data Scientist', 'Data Scientist', 'AI Scientist', 'Data Scientist', 'Business Data Analyst', 'Data Engineer', 'Research Scientist', 'Data Engineer', 'Staff Data Scientist', 'Research Scientist', 'Data Science Manager', 'Head of Data', 'Data Scientist', 'Machine Learning Engineer', 'Data Engineer', 'Data Analyst', 'Data Analyst', 'Data Scientist', 'Data Scientist', 'Data Engineer', 'Data Engineer', 'Data Analyst', 'Data Analyst', 'Data Scientist', 'Data Scientist', 'Data Scientist', 'Data Scientist', 'Data Scientist', 'Data Scientist', 'Data Engineer', 'Data Analyst', 'Data Analyst', 'Data Analyst', 'Data Analyst', 'Data Engineer', 'Data Engineer', 'Data Scientist', 'Data Scientist', 'Data Engineer', 'Data Engineer', 'Data Scientist', 'Data Engineer', 'Data Scientist', 'Data Analyst', 'Data Engineer', 'Data Engineer', 'Data Engineer', 'Data Engineer', 'Data Scientist', 'Data Scientist', 'Data Analyst', 'Data Analyst', 'Data Analyst', 'Data Analyst', 'Data Analyst', 'Data Analyst', 'Data Analyst', 'Data Analyst', 'Data Analyst', 'Data Engineer', 'Data Engineer', 'Data Analyst', 'Data Engineer', 'Data Analyst', 'Data Analyst', 'Data Engineer', 'Data Engineer', 'Head of Data Science', 'Head of Data Science', 'Analytics Engineer', 'Data Engineer', 'Data Engineer', 'Data Scientist', 'Data Engineer', 'Data Analyst', 'Data Science Manager', 'Data Science Manager', 'Data Scientist', 'Data Scientist', 'Data Engineer', 'Data Engineer', 'Data Scientist', 'Data Scientist', 'Data Architect', 'Data Architect', 'Data Analyst', 'Data Analyst', 'Data Analyst', 'Data Analyst', 'Data Engineer', 'Data Scientist', 'Data Engineer', 'Data Analyst', 'Analytics Engineer', 'Data Scientist', 'Data Scientist', 'Machine Learning Engineer', 'Machine Learning Engineer', 'ETL Developer', 'ETL Developer', 'Lead Data Engineer', 'Data Analyst', 'Data Engineer', 'Data Architect', 'Data Architect', 'Data Engineer', 'Data Engineer', 'Data Analyst', 'Data Analyst', 'Head of Machine Learning', 'Data Engineer', 'Machine Learning Engineer', 'Data Analyst', 'Data Engineer', 'Machine Learning Engineer', 'Machine Learning Engineer', 'AI Scientist', 'Data Analyst', 'Data Analyst', 'Data Analytics Manager', 'Data Analytics Manager', 'Machine Learning Engineer', 'Data Engineer', 'Data Scientist', 'Data Scientist', 'Data Engineer', 'Data Engineer', 'Data Analyst', 'Data Analyst', 'Data Engineer', 'Data Engineer', 'Data Analyst', 'Data Engineer', 'Data Analyst', 'Data Scientist', 'Data Scientist', 'Data Scientist', 'Data Engineer', 'Data Engineer', 'Data Engineer', 'Data Engineer', 'Data Scientist', 'Data Science Engineer', 'Data Engineer', 'Machine Learning Scientist', 'Machine Learning Scientist', 'Data Science Manager', 'Data Science Manager', 'Data Scientist', 'Data Scientist', 'Data Engineer', 'Data Engineer', 'Data Engineer', 'Data Scientist', 'Data Analyst', 'Data Analyst', 'Data Analyst', 'Data Engineer', 'Data Engineer', 'Data Engineer', 'Data Engineer', 'Data Engineer', 'Data Engineer', 'Machine Learning Engineer', 'Machine Learning Engineer', 'Data Analyst', 'Data Analyst', 'Data Engineer', 'Data Engineer', 'Data Scientist', 'Data Engineer', 'Data Engineer', 'Data Engineer', 'Data Engineer', 'ML Engineer', 'Data Engineer', 'Machine Learning Developer', 'Director of Data Science', 'Machine Learning Engineer', 'Computer Vision Engineer', 'NLP Engineer', 'Data Engineer', 'Lead Machine Learning Engineer', 'Business Data Analyst', 'Data Scientist', 'Machine Learning Infrastructure Engineer', 'Financial Data Analyst', 'Data Engineer', 'Data Scientist', 'Principal Data Scientist', 'Data Engineer', 'Research Scientist', 'Data Scientist', 'Data Engineer', 'Data Scientist', 'Data Analyst', 'Data Analyst', 'Data Scientist', 'Data Scientist', 'Data Scientist', 'Data Scientist', 'Data Scientist', 'Machine Learning Engineer', 'Data Scientist', 'Data Scientist', 'Machine Learning Engineer', 'Machine Learning Engineer', 'Data Engineer', 'Data Engineer', 'Data Engineer', 'Machine Learning Engineer', 'Data Scientist', 'Data Scientist', 'Data Scientist', 'Applied Machine Learning Scientist', 'Head of Data', 'Principal Data Analyst', 'Data Scientist', 'Machine Learning Developer', 'Data Scientist', 'Machine Learning Scientist', 'Data Engineer', 'Data Scientist', 'Research Scientist', 'Data Scientist', 'Machine Learning Engineer', 'Head of Data', 'Data Scientist', 'Machine Learning Engineer', 'Data Engineer', 'Data Scientist', 'Applied Machine Learning Scientist', 'Research Scientist', 'Research Scientist', 'Applied Data Scientist', 'Computer Vision Software Engineer', 'Business Data Analyst', 'Data Engineer', 'Machine Learning Engineer', 'Data Analytics Engineer', 'Data Scientist', 'Data Science Manager', 'Data Engineer', 'Data Scientist', 'Applied Data Scientist', 'Data Scientist', 'Computer Vision Engineer', 'Data Analyst', 'Data Analytics Lead', 'Data Scientist', 'Applied Data Scientist', 'Data Scientist', 'Data Analyst', 'Data Analyst', 'Data Analyst', 'Data Analyst', 'Data Analyst', 'Machine Learning Engineer', 'Machine Learning Engineer', 'Data Architect', 'Data Architect', 'Data Analyst', 'Data Engineer', 'Data Scientist', 'Data Scientist', 'Data Analyst', 'Data Analyst', 'Data Engineer', 'Data Engineer', 'Data Engineer', 'Data Engineer', 'Data Engineer', 'Data Engineer', 'Data Analyst', 'Data Engineer', 'Data Scientist', 'Data Scientist', 'Data Scientist', 'Data Scientist', 'Data Engineer', 'Data Engineer', 'Data Engineer', 'Data Engineer', 'Data Scientist', 'Data Scientist', 'Analytics Engineer', 'Analytics Engineer', 'Data Engineer', 'Data Engineer', 'Data Analyst', 'Data Engineer', 'Data Analyst', 'Data Analyst', 'Data Analyst', 'Data Scientist', 'Data Scientist', 'Data Scientist', 'Data Analyst', 'Data Analyst', 'Data Scientist', 'Data Scientist', 'Data Scientist', 'Data Analyst', 'Data Engineer', 'Data Engineer', 'Data Analyst', 'Data Analyst', 'Data Engineer', 'Data Engineer', 'Data Analyst', 'Data Analyst', 'Data Analyst', 'Data Scientist', 'Data Analyst', 'Data Analyst', 'Data Architect', 'Data Architect', 'Data Scientist', 'Data Scientist', 'Data Analytics Manager', 'Data Analytics Manager', 'Data Scientist', 'Data Analyst', 'Data Scientist', 'Data Scientist', 'Data Analyst', 'Data Analyst', 'Data Engineer', 'Data Engineer', 'Data Analyst', 'Data Analyst', 'AI Scientist']\n"
     ]
    }
   ],
   "source": [
    "# print all the job_titles\n",
    "job_title_list = data[\"job_title\"].tolist()\n",
    "\n",
    "print(job_title_list)"
   ]
  },
  {
   "cell_type": "code",
   "execution_count": 72,
   "metadata": {},
   "outputs": [
    {
     "name": "stdout",
     "output_type": "stream",
     "text": [
      "['Data Scientist' 'Lead Data Scientist' 'Data Science Consultant'\n",
      " 'Director of Data Science' 'Principal Data Scientist'\n",
      " 'Data Science Manager' 'Applied Data Scientist' 'Data Science Engineer'\n",
      " 'Head of Data Science' 'Staff Data Scientist']\n"
     ]
    }
   ],
   "source": [
    "# filter the dataset for all Data Scientists related jobs\n",
    "data_scientists_data = data[data['job_title'].str.contains(\"data sc\", case=False)]\n",
    "\n",
    "# verify the unique job titles of the filtered dataset\n",
    "print(data_scientists_data['job_title'].unique())"
   ]
  },
  {
   "cell_type": "markdown",
   "metadata": {},
   "source": [
    "Now we are going to create **a new feature job_title_DS**, where all the job titles will remain unchenged, except the following, as they actuallly represent a variety of Data Scientist roles:'Data Scientist' 'Lead Data Scientist' 'Data Science Consultant', 'Director of Data Science' 'Principal Data Scientist', 'Data Science Manager' 'Applied Data Scientist' 'Data Science Engineer', 'Head of Data Science' 'Staff Data Scientist'.\n",
    "\n",
    "Then, we will remove the original job_title feature and work with the job_title_DS instead."
   ]
  },
  {
   "cell_type": "code",
   "execution_count": 73,
   "metadata": {},
   "outputs": [
    {
     "data": {
      "text/html": [
       "<div>\n",
       "<style scoped>\n",
       "    .dataframe tbody tr th:only-of-type {\n",
       "        vertical-align: middle;\n",
       "    }\n",
       "\n",
       "    .dataframe tbody tr th {\n",
       "        vertical-align: top;\n",
       "    }\n",
       "\n",
       "    .dataframe thead th {\n",
       "        text-align: right;\n",
       "    }\n",
       "</style>\n",
       "<table border=\"1\" class=\"dataframe\">\n",
       "  <thead>\n",
       "    <tr style=\"text-align: right;\">\n",
       "      <th></th>\n",
       "      <th>work_year</th>\n",
       "      <th>experience_level</th>\n",
       "      <th>employment_type</th>\n",
       "      <th>salary_in_usd</th>\n",
       "      <th>employee_residence</th>\n",
       "      <th>remote_ratio</th>\n",
       "      <th>company_location</th>\n",
       "      <th>company_size</th>\n",
       "      <th>job_title_DS</th>\n",
       "    </tr>\n",
       "  </thead>\n",
       "  <tbody>\n",
       "    <tr>\n",
       "      <th>0</th>\n",
       "      <td>2020</td>\n",
       "      <td>MI</td>\n",
       "      <td>FT</td>\n",
       "      <td>79833</td>\n",
       "      <td>DE</td>\n",
       "      <td>0</td>\n",
       "      <td>DE</td>\n",
       "      <td>L</td>\n",
       "      <td>DS</td>\n",
       "    </tr>\n",
       "    <tr>\n",
       "      <th>1</th>\n",
       "      <td>2020</td>\n",
       "      <td>SE</td>\n",
       "      <td>FT</td>\n",
       "      <td>260000</td>\n",
       "      <td>JP</td>\n",
       "      <td>0</td>\n",
       "      <td>JP</td>\n",
       "      <td>S</td>\n",
       "      <td>Machine Learning Scientist</td>\n",
       "    </tr>\n",
       "    <tr>\n",
       "      <th>2</th>\n",
       "      <td>2020</td>\n",
       "      <td>SE</td>\n",
       "      <td>FT</td>\n",
       "      <td>109024</td>\n",
       "      <td>GB</td>\n",
       "      <td>50</td>\n",
       "      <td>GB</td>\n",
       "      <td>M</td>\n",
       "      <td>Big Data Engineer</td>\n",
       "    </tr>\n",
       "    <tr>\n",
       "      <th>3</th>\n",
       "      <td>2020</td>\n",
       "      <td>MI</td>\n",
       "      <td>FT</td>\n",
       "      <td>20000</td>\n",
       "      <td>HN</td>\n",
       "      <td>0</td>\n",
       "      <td>HN</td>\n",
       "      <td>S</td>\n",
       "      <td>Product Data Analyst</td>\n",
       "    </tr>\n",
       "    <tr>\n",
       "      <th>4</th>\n",
       "      <td>2020</td>\n",
       "      <td>SE</td>\n",
       "      <td>FT</td>\n",
       "      <td>150000</td>\n",
       "      <td>US</td>\n",
       "      <td>50</td>\n",
       "      <td>US</td>\n",
       "      <td>L</td>\n",
       "      <td>Machine Learning Engineer</td>\n",
       "    </tr>\n",
       "  </tbody>\n",
       "</table>\n",
       "</div>"
      ],
      "text/plain": [
       "   work_year experience_level employment_type  salary_in_usd  \\\n",
       "0       2020               MI              FT          79833   \n",
       "1       2020               SE              FT         260000   \n",
       "2       2020               SE              FT         109024   \n",
       "3       2020               MI              FT          20000   \n",
       "4       2020               SE              FT         150000   \n",
       "\n",
       "  employee_residence  remote_ratio company_location company_size  \\\n",
       "0                 DE             0               DE            L   \n",
       "1                 JP             0               JP            S   \n",
       "2                 GB            50               GB            M   \n",
       "3                 HN             0               HN            S   \n",
       "4                 US            50               US            L   \n",
       "\n",
       "                 job_title_DS  \n",
       "0                          DS  \n",
       "1  Machine Learning Scientist  \n",
       "2           Big Data Engineer  \n",
       "3        Product Data Analyst  \n",
       "4   Machine Learning Engineer  "
      ]
     },
     "execution_count": 73,
     "metadata": {},
     "output_type": "execute_result"
    }
   ],
   "source": [
    "data['job_title_DS'] = data['job_title'].apply(lambda x: 'DS' if 'data sc' in str(x).lower() else x)\n",
    "\n",
    "data = data.drop(columns=['job_title'])\n",
    "\n",
    "data.head()"
   ]
  },
  {
   "cell_type": "markdown",
   "metadata": {},
   "source": [
    "**Note:** For the future comparison between Data Scientists and Data engineers, we will look at the job titles for Data Engineers and find all the relevant titles as we did for Data Scientists."
   ]
  },
  {
   "cell_type": "code",
   "execution_count": 74,
   "metadata": {},
   "outputs": [
    {
     "name": "stdout",
     "output_type": "stream",
     "text": [
      "['Big Data Engineer' 'Lead Data Engineer' 'Data Engineer'\n",
      " 'Data Engineering Manager' 'Cloud Data Engineer'\n",
      " 'Director of Data Engineering' 'Principal Data Engineer']\n"
     ]
    }
   ],
   "source": [
    "# filter the dataset for all Data Engineer related jobs\n",
    "data_engineers_data = data[data['job_title_DS'].str.contains(\"data en\", case=False)]\n",
    "\n",
    "# verify the unique job titles of the filtered dataset\n",
    "print(data_engineers_data['job_title_DS'].unique())\n"
   ]
  },
  {
   "cell_type": "code",
   "execution_count": 75,
   "metadata": {},
   "outputs": [
    {
     "data": {
      "text/html": [
       "<div>\n",
       "<style scoped>\n",
       "    .dataframe tbody tr th:only-of-type {\n",
       "        vertical-align: middle;\n",
       "    }\n",
       "\n",
       "    .dataframe tbody tr th {\n",
       "        vertical-align: top;\n",
       "    }\n",
       "\n",
       "    .dataframe thead th {\n",
       "        text-align: right;\n",
       "    }\n",
       "</style>\n",
       "<table border=\"1\" class=\"dataframe\">\n",
       "  <thead>\n",
       "    <tr style=\"text-align: right;\">\n",
       "      <th></th>\n",
       "      <th>work_year</th>\n",
       "      <th>experience_level</th>\n",
       "      <th>employment_type</th>\n",
       "      <th>salary_in_usd</th>\n",
       "      <th>employee_residence</th>\n",
       "      <th>remote_ratio</th>\n",
       "      <th>company_location</th>\n",
       "      <th>company_size</th>\n",
       "      <th>job_title_DS_DE</th>\n",
       "    </tr>\n",
       "  </thead>\n",
       "  <tbody>\n",
       "    <tr>\n",
       "      <th>0</th>\n",
       "      <td>2020</td>\n",
       "      <td>MI</td>\n",
       "      <td>FT</td>\n",
       "      <td>79833</td>\n",
       "      <td>DE</td>\n",
       "      <td>0</td>\n",
       "      <td>DE</td>\n",
       "      <td>L</td>\n",
       "      <td>DS</td>\n",
       "    </tr>\n",
       "    <tr>\n",
       "      <th>1</th>\n",
       "      <td>2020</td>\n",
       "      <td>SE</td>\n",
       "      <td>FT</td>\n",
       "      <td>260000</td>\n",
       "      <td>JP</td>\n",
       "      <td>0</td>\n",
       "      <td>JP</td>\n",
       "      <td>S</td>\n",
       "      <td>Machine Learning Scientist</td>\n",
       "    </tr>\n",
       "    <tr>\n",
       "      <th>2</th>\n",
       "      <td>2020</td>\n",
       "      <td>SE</td>\n",
       "      <td>FT</td>\n",
       "      <td>109024</td>\n",
       "      <td>GB</td>\n",
       "      <td>50</td>\n",
       "      <td>GB</td>\n",
       "      <td>M</td>\n",
       "      <td>Big Data Engineer</td>\n",
       "    </tr>\n",
       "    <tr>\n",
       "      <th>3</th>\n",
       "      <td>2020</td>\n",
       "      <td>MI</td>\n",
       "      <td>FT</td>\n",
       "      <td>20000</td>\n",
       "      <td>HN</td>\n",
       "      <td>0</td>\n",
       "      <td>HN</td>\n",
       "      <td>S</td>\n",
       "      <td>Product Data Analyst</td>\n",
       "    </tr>\n",
       "    <tr>\n",
       "      <th>4</th>\n",
       "      <td>2020</td>\n",
       "      <td>SE</td>\n",
       "      <td>FT</td>\n",
       "      <td>150000</td>\n",
       "      <td>US</td>\n",
       "      <td>50</td>\n",
       "      <td>US</td>\n",
       "      <td>L</td>\n",
       "      <td>Machine Learning Engineer</td>\n",
       "    </tr>\n",
       "  </tbody>\n",
       "</table>\n",
       "</div>"
      ],
      "text/plain": [
       "   work_year experience_level employment_type  salary_in_usd  \\\n",
       "0       2020               MI              FT          79833   \n",
       "1       2020               SE              FT         260000   \n",
       "2       2020               SE              FT         109024   \n",
       "3       2020               MI              FT          20000   \n",
       "4       2020               SE              FT         150000   \n",
       "\n",
       "  employee_residence  remote_ratio company_location company_size  \\\n",
       "0                 DE             0               DE            L   \n",
       "1                 JP             0               JP            S   \n",
       "2                 GB            50               GB            M   \n",
       "3                 HN             0               HN            S   \n",
       "4                 US            50               US            L   \n",
       "\n",
       "              job_title_DS_DE  \n",
       "0                          DS  \n",
       "1  Machine Learning Scientist  \n",
       "2           Big Data Engineer  \n",
       "3        Product Data Analyst  \n",
       "4   Machine Learning Engineer  "
      ]
     },
     "execution_count": 75,
     "metadata": {},
     "output_type": "execute_result"
    }
   ],
   "source": [
    "# create a list of relevant job titles \n",
    "data_engineer_titles = ['Lead Data Engineer', 'Data Engineer', 'Data Engineering Manager', \n",
    "                        'Director of Data Engineering', 'Principal Data Engineer']\n",
    "\n",
    "# create a new column 'job_title_DS_DE' with 'DE' for the specified job titles, otherwise leave as is\n",
    "data['job_title_DS_DE'] = data['job_title_DS'].apply(lambda x: 'DE' if x in data_engineer_titles else x)\n",
    "\n",
    "# Drop the original 'job_title' column\n",
    "data = data.drop(columns=['job_title_DS'])\n",
    "\n",
    "# Show the first few rows of the modified data\n",
    "data.head()"
   ]
  },
  {
   "cell_type": "markdown",
   "metadata": {},
   "source": [
    "## Exploratory Data Analysis \n",
    "\n",
    "### Visual Data Analysis"
   ]
  },
  {
   "cell_type": "markdown",
   "metadata": {},
   "source": [
    "First, we will create histograms and boxplots for numerical features in the dataset."
   ]
  },
  {
   "cell_type": "code",
   "execution_count": 76,
   "metadata": {},
   "outputs": [
    {
     "data": {
      "image/png": "[encoded data removed]",
      "text/plain": [
       "<Figure size 1500x1000 with 6 Axes>"
      ]
     },
     "metadata": {},
     "output_type": "display_data"
    }
   ],
   "source": [
    "# list of numerical features\n",
    "numerical_features = [\"work_year\", \"salary_in_usd\", \"remote_ratio\"]\n",
    "\n",
    "# create histograms and boxplots\n",
    "plt.figure(figsize=(15, 10))\n",
    "for i, feature in enumerate(numerical_features, 1):\n",
    "    # histogram\n",
    "    plt.subplot(2, len(numerical_features), i)\n",
    "    sns.histplot(data[feature], kde=True, bins=30)\n",
    "    plt.axvline(data[feature].mean(), color='red', linestyle='--', linewidth=1, label=\"Mean\")\n",
    "    plt.title(f\"Histogram of {feature}\")\n",
    "    \n",
    "    # boxplot\n",
    "    plt.subplot(2, len(numerical_features), len(numerical_features) + i)\n",
    "    sns.boxplot(x=data[feature])\n",
    "    plt.axvline(data[feature].median(), color='red', linestyle='--', linewidth=1, label=\"Median\")\n",
    "    plt.title(f\"Boxplot of {feature}\")\n",
    "\n",
    "plt.tight_layout()\n",
    "plt.show()\n"
   ]
  },
  {
   "cell_type": "markdown",
   "metadata": {},
   "source": [
    "As median and mean differ for the numeric features, we expect they are not distributed normally."
   ]
  },
  {
   "cell_type": "markdown",
   "metadata": {},
   "source": [
    "Now, we count and visualize categorical features. As \"job_title_DS\", \"employee_residence\", \"company_location\" have many unique values we will apply categorisation, putting rare values in the category \"Other\" for a better visualisation."
   ]
  },
  {
   "cell_type": "code",
   "execution_count": 77,
   "metadata": {},
   "outputs": [
    {
     "data": {
      "image/png": "[encoded data removed]",
      "text/plain": [
       "<Figure size 1500x1500 with 6 Axes>"
      ]
     },
     "metadata": {},
     "output_type": "display_data"
    }
   ],
   "source": [
    "# function to group rare categories\n",
    "def group_rare_categories(df, column, threshold=0.03):\n",
    "    counts = df[column].value_counts(normalize=True)\n",
    "    rare_categories = counts[counts < threshold].index\n",
    "    df[column] = df[column].apply(lambda x: x if x not in rare_categories else 'Other')\n",
    "    return df\n",
    "\n",
    "# apply categorization for features with many unique values\n",
    "categorical_features = [\"job_title_DS_DE\", \"employee_residence\", \"company_location\"]\n",
    "for feature in categorical_features:\n",
    "    data = group_rare_categories(data, feature)\n",
    "\n",
    "# define all categorical features to visualize\n",
    "all_categorical_features = [\"experience_level\", \"employment_type\", \"company_size\",\n",
    "                            \"job_title_DS_DE\", \"employee_residence\", \"company_location\"]\n",
    "\n",
    "# set up the figure with correct rows & columns\n",
    "num_features = len(all_categorical_features)\n",
    "rows = (num_features + 1) // 2  # in 3 rows, 2 columns\n",
    "plt.figure(figsize=(15, rows * 5))  # dinamic height \n",
    "\n",
    "# loop through categorical features and plot\n",
    "for i, feature in enumerate(all_categorical_features, 1):\n",
    "    plt.subplot(rows, 2, i)\n",
    "    \n",
    "    if feature not in data.columns:\n",
    "        continue  # skip missing columns\n",
    "    \n",
    "    if feature in [\"job_title_DS_DE\", \"employee_residence\", \"company_location\"]:\n",
    "        sns.barplot(\n",
    "            x=data[feature].value_counts().index, \n",
    "            y=data[feature].value_counts().values, \n",
    "            hue=data[feature].value_counts().index,  \n",
    "            legend=False,\n",
    "        )\n",
    "        plt.xticks(rotation=45, ha='right')\n",
    "    else:\n",
    "        sns.countplot(data=data, x=feature, hue=feature)\n",
    "\n",
    "    plt.title(f\"Distribution of {feature}\")\n",
    "\n",
    "plt.tight_layout()\n",
    "plt.show()\n"
   ]
  },
  {
   "cell_type": "markdown",
   "metadata": {},
   "source": [
    "Next we will visualise **the impact of different features on salary for Data Scientist positions**. \n"
   ]
  },
  {
   "cell_type": "code",
   "execution_count": 78,
   "metadata": {},
   "outputs": [
    {
     "name": "stdout",
     "output_type": "stream",
     "text": [
      "\n",
      "Salary Data Scientist by Experience_level\n"
     ]
    },
    {
     "data": {
      "text/html": [
       "<div>\n",
       "<style scoped>\n",
       "    .dataframe tbody tr th:only-of-type {\n",
       "        vertical-align: middle;\n",
       "    }\n",
       "\n",
       "    .dataframe tbody tr th {\n",
       "        vertical-align: top;\n",
       "    }\n",
       "\n",
       "    .dataframe thead th {\n",
       "        text-align: right;\n",
       "    }\n",
       "</style>\n",
       "<table border=\"1\" class=\"dataframe\">\n",
       "  <thead>\n",
       "    <tr style=\"text-align: right;\">\n",
       "      <th></th>\n",
       "      <th>count</th>\n",
       "      <th>mean</th>\n",
       "      <th>std</th>\n",
       "      <th>min</th>\n",
       "      <th>25%</th>\n",
       "      <th>50%</th>\n",
       "      <th>75%</th>\n",
       "      <th>max</th>\n",
       "    </tr>\n",
       "    <tr>\n",
       "      <th>experience_level</th>\n",
       "      <th></th>\n",
       "      <th></th>\n",
       "      <th></th>\n",
       "      <th></th>\n",
       "      <th></th>\n",
       "      <th></th>\n",
       "      <th></th>\n",
       "      <th></th>\n",
       "    </tr>\n",
       "  </thead>\n",
       "  <tbody>\n",
       "    <tr>\n",
       "      <th>EN</th>\n",
       "      <td>28.0</td>\n",
       "      <td>58590.04</td>\n",
       "      <td>32115.87</td>\n",
       "      <td>4000.0</td>\n",
       "      <td>34920.0</td>\n",
       "      <td>55198.0</td>\n",
       "      <td>87527.25</td>\n",
       "      <td>110037.0</td>\n",
       "    </tr>\n",
       "    <tr>\n",
       "      <th>EX</th>\n",
       "      <td>11.0</td>\n",
       "      <td>196375.82</td>\n",
       "      <td>103378.46</td>\n",
       "      <td>69741.0</td>\n",
       "      <td>135936.0</td>\n",
       "      <td>167875.0</td>\n",
       "      <td>237000.00</td>\n",
       "      <td>416000.0</td>\n",
       "    </tr>\n",
       "    <tr>\n",
       "      <th>MI</th>\n",
       "      <td>69.0</td>\n",
       "      <td>87721.38</td>\n",
       "      <td>50552.68</td>\n",
       "      <td>2859.0</td>\n",
       "      <td>45760.0</td>\n",
       "      <td>82500.0</td>\n",
       "      <td>120000.00</td>\n",
       "      <td>241000.0</td>\n",
       "    </tr>\n",
       "    <tr>\n",
       "      <th>SE</th>\n",
       "      <td>84.0</td>\n",
       "      <td>154984.07</td>\n",
       "      <td>62201.17</td>\n",
       "      <td>20171.0</td>\n",
       "      <td>120120.0</td>\n",
       "      <td>147130.5</td>\n",
       "      <td>181275.00</td>\n",
       "      <td>412000.0</td>\n",
       "    </tr>\n",
       "  </tbody>\n",
       "</table>\n",
       "</div>"
      ],
      "text/plain": [
       "                  count       mean        std      min       25%       50%  \\\n",
       "experience_level                                                             \n",
       "EN                 28.0   58590.04   32115.87   4000.0   34920.0   55198.0   \n",
       "EX                 11.0  196375.82  103378.46  69741.0  135936.0  167875.0   \n",
       "MI                 69.0   87721.38   50552.68   2859.0   45760.0   82500.0   \n",
       "SE                 84.0  154984.07   62201.17  20171.0  120120.0  147130.5   \n",
       "\n",
       "                        75%       max  \n",
       "experience_level                       \n",
       "EN                 87527.25  110037.0  \n",
       "EX                237000.00  416000.0  \n",
       "MI                120000.00  241000.0  \n",
       "SE                181275.00  412000.0  "
      ]
     },
     "metadata": {},
     "output_type": "display_data"
    },
    {
     "name": "stdout",
     "output_type": "stream",
     "text": [
      "\n",
      "Salary Data Scientist by Employment_type\n"
     ]
    },
    {
     "data": {
      "text/html": [
       "<div>\n",
       "<style scoped>\n",
       "    .dataframe tbody tr th:only-of-type {\n",
       "        vertical-align: middle;\n",
       "    }\n",
       "\n",
       "    .dataframe tbody tr th {\n",
       "        vertical-align: top;\n",
       "    }\n",
       "\n",
       "    .dataframe thead th {\n",
       "        text-align: right;\n",
       "    }\n",
       "</style>\n",
       "<table border=\"1\" class=\"dataframe\">\n",
       "  <thead>\n",
       "    <tr style=\"text-align: right;\">\n",
       "      <th></th>\n",
       "      <th>count</th>\n",
       "      <th>mean</th>\n",
       "      <th>std</th>\n",
       "      <th>min</th>\n",
       "      <th>25%</th>\n",
       "      <th>50%</th>\n",
       "      <th>75%</th>\n",
       "      <th>max</th>\n",
       "    </tr>\n",
       "    <tr>\n",
       "      <th>employment_type</th>\n",
       "      <th></th>\n",
       "      <th></th>\n",
       "      <th></th>\n",
       "      <th></th>\n",
       "      <th></th>\n",
       "      <th></th>\n",
       "      <th></th>\n",
       "      <th></th>\n",
       "    </tr>\n",
       "  </thead>\n",
       "  <tbody>\n",
       "    <tr>\n",
       "      <th>CT</th>\n",
       "      <td>2.0</td>\n",
       "      <td>260500.00</td>\n",
       "      <td>219910.21</td>\n",
       "      <td>105000.0</td>\n",
       "      <td>182750.00</td>\n",
       "      <td>260500.0</td>\n",
       "      <td>338250.00</td>\n",
       "      <td>416000.0</td>\n",
       "    </tr>\n",
       "    <tr>\n",
       "      <th>FL</th>\n",
       "      <td>1.0</td>\n",
       "      <td>100000.00</td>\n",
       "      <td>NaN</td>\n",
       "      <td>100000.0</td>\n",
       "      <td>100000.00</td>\n",
       "      <td>100000.0</td>\n",
       "      <td>100000.00</td>\n",
       "      <td>100000.0</td>\n",
       "    </tr>\n",
       "    <tr>\n",
       "      <th>FT</th>\n",
       "      <td>187.0</td>\n",
       "      <td>118339.16</td>\n",
       "      <td>68597.93</td>\n",
       "      <td>2859.0</td>\n",
       "      <td>64634.50</td>\n",
       "      <td>117789.0</td>\n",
       "      <td>158600.00</td>\n",
       "      <td>412000.0</td>\n",
       "    </tr>\n",
       "    <tr>\n",
       "      <th>PT</th>\n",
       "      <td>2.0</td>\n",
       "      <td>60834.50</td>\n",
       "      <td>55388.38</td>\n",
       "      <td>21669.0</td>\n",
       "      <td>41251.75</td>\n",
       "      <td>60834.5</td>\n",
       "      <td>80417.25</td>\n",
       "      <td>100000.0</td>\n",
       "    </tr>\n",
       "  </tbody>\n",
       "</table>\n",
       "</div>"
      ],
      "text/plain": [
       "                 count       mean        std       min        25%       50%  \\\n",
       "employment_type                                                               \n",
       "CT                 2.0  260500.00  219910.21  105000.0  182750.00  260500.0   \n",
       "FL                 1.0  100000.00        NaN  100000.0  100000.00  100000.0   \n",
       "FT               187.0  118339.16   68597.93    2859.0   64634.50  117789.0   \n",
       "PT                 2.0   60834.50   55388.38   21669.0   41251.75   60834.5   \n",
       "\n",
       "                       75%       max  \n",
       "employment_type                       \n",
       "CT               338250.00  416000.0  \n",
       "FL               100000.00  100000.0  \n",
       "FT               158600.00  412000.0  \n",
       "PT                80417.25  100000.0  "
      ]
     },
     "metadata": {},
     "output_type": "display_data"
    },
    {
     "name": "stdout",
     "output_type": "stream",
     "text": [
      "\n",
      "Salary Data Scientist by Company_size\n"
     ]
    },
    {
     "data": {
      "text/html": [
       "<div>\n",
       "<style scoped>\n",
       "    .dataframe tbody tr th:only-of-type {\n",
       "        vertical-align: middle;\n",
       "    }\n",
       "\n",
       "    .dataframe tbody tr th {\n",
       "        vertical-align: top;\n",
       "    }\n",
       "\n",
       "    .dataframe thead th {\n",
       "        text-align: right;\n",
       "    }\n",
       "</style>\n",
       "<table border=\"1\" class=\"dataframe\">\n",
       "  <thead>\n",
       "    <tr style=\"text-align: right;\">\n",
       "      <th></th>\n",
       "      <th>count</th>\n",
       "      <th>mean</th>\n",
       "      <th>std</th>\n",
       "      <th>min</th>\n",
       "      <th>25%</th>\n",
       "      <th>50%</th>\n",
       "      <th>75%</th>\n",
       "      <th>max</th>\n",
       "    </tr>\n",
       "    <tr>\n",
       "      <th>company_size</th>\n",
       "      <th></th>\n",
       "      <th></th>\n",
       "      <th></th>\n",
       "      <th></th>\n",
       "      <th></th>\n",
       "      <th></th>\n",
       "      <th></th>\n",
       "      <th></th>\n",
       "    </tr>\n",
       "  </thead>\n",
       "  <tbody>\n",
       "    <tr>\n",
       "      <th>L</th>\n",
       "      <td>71.0</td>\n",
       "      <td>121775.80</td>\n",
       "      <td>79795.90</td>\n",
       "      <td>13400.0</td>\n",
       "      <td>57128.00</td>\n",
       "      <td>115000.0</td>\n",
       "      <td>155333.50</td>\n",
       "      <td>412000.0</td>\n",
       "    </tr>\n",
       "    <tr>\n",
       "      <th>M</th>\n",
       "      <td>93.0</td>\n",
       "      <td>129193.49</td>\n",
       "      <td>57169.50</td>\n",
       "      <td>4000.0</td>\n",
       "      <td>91614.00</td>\n",
       "      <td>137141.0</td>\n",
       "      <td>165220.00</td>\n",
       "      <td>260000.0</td>\n",
       "    </tr>\n",
       "    <tr>\n",
       "      <th>S</th>\n",
       "      <td>28.0</td>\n",
       "      <td>78964.82</td>\n",
       "      <td>79917.35</td>\n",
       "      <td>2859.0</td>\n",
       "      <td>38030.75</td>\n",
       "      <td>66233.5</td>\n",
       "      <td>90309.25</td>\n",
       "      <td>416000.0</td>\n",
       "    </tr>\n",
       "  </tbody>\n",
       "</table>\n",
       "</div>"
      ],
      "text/plain": [
       "              count       mean       std      min       25%       50%  \\\n",
       "company_size                                                            \n",
       "L              71.0  121775.80  79795.90  13400.0  57128.00  115000.0   \n",
       "M              93.0  129193.49  57169.50   4000.0  91614.00  137141.0   \n",
       "S              28.0   78964.82  79917.35   2859.0  38030.75   66233.5   \n",
       "\n",
       "                    75%       max  \n",
       "company_size                       \n",
       "L             155333.50  412000.0  \n",
       "M             165220.00  260000.0  \n",
       "S              90309.25  416000.0  "
      ]
     },
     "metadata": {},
     "output_type": "display_data"
    },
    {
     "name": "stdout",
     "output_type": "stream",
     "text": [
      "\n",
      "Salary Data Scientist by Employee_residence\n"
     ]
    },
    {
     "data": {
      "text/html": [
       "<div>\n",
       "<style scoped>\n",
       "    .dataframe tbody tr th:only-of-type {\n",
       "        vertical-align: middle;\n",
       "    }\n",
       "\n",
       "    .dataframe tbody tr th {\n",
       "        vertical-align: top;\n",
       "    }\n",
       "\n",
       "    .dataframe thead th {\n",
       "        text-align: right;\n",
       "    }\n",
       "</style>\n",
       "<table border=\"1\" class=\"dataframe\">\n",
       "  <thead>\n",
       "    <tr style=\"text-align: right;\">\n",
       "      <th></th>\n",
       "      <th>count</th>\n",
       "      <th>mean</th>\n",
       "      <th>std</th>\n",
       "      <th>min</th>\n",
       "      <th>25%</th>\n",
       "      <th>50%</th>\n",
       "      <th>75%</th>\n",
       "      <th>max</th>\n",
       "    </tr>\n",
       "    <tr>\n",
       "      <th>employee_residence</th>\n",
       "      <th></th>\n",
       "      <th></th>\n",
       "      <th></th>\n",
       "      <th></th>\n",
       "      <th></th>\n",
       "      <th></th>\n",
       "      <th></th>\n",
       "      <th></th>\n",
       "    </tr>\n",
       "  </thead>\n",
       "  <tbody>\n",
       "    <tr>\n",
       "      <th>CA</th>\n",
       "      <td>8.0</td>\n",
       "      <td>101641.88</td>\n",
       "      <td>44851.57</td>\n",
       "      <td>52396.0</td>\n",
       "      <td>74164.5</td>\n",
       "      <td>93869.0</td>\n",
       "      <td>109573.5</td>\n",
       "      <td>196979.0</td>\n",
       "    </tr>\n",
       "    <tr>\n",
       "      <th>DE</th>\n",
       "      <td>15.0</td>\n",
       "      <td>99832.13</td>\n",
       "      <td>40432.36</td>\n",
       "      <td>49268.0</td>\n",
       "      <td>70332.0</td>\n",
       "      <td>88654.0</td>\n",
       "      <td>135936.0</td>\n",
       "      <td>173762.0</td>\n",
       "    </tr>\n",
       "    <tr>\n",
       "      <th>GB</th>\n",
       "      <td>13.0</td>\n",
       "      <td>87248.15</td>\n",
       "      <td>39531.34</td>\n",
       "      <td>39263.0</td>\n",
       "      <td>56256.0</td>\n",
       "      <td>76958.0</td>\n",
       "      <td>110037.0</td>\n",
       "      <td>183228.0</td>\n",
       "    </tr>\n",
       "    <tr>\n",
       "      <th>IN</th>\n",
       "      <td>13.0</td>\n",
       "      <td>31506.23</td>\n",
       "      <td>23948.38</td>\n",
       "      <td>5679.0</td>\n",
       "      <td>16904.0</td>\n",
       "      <td>29751.0</td>\n",
       "      <td>40481.0</td>\n",
       "      <td>94665.0</td>\n",
       "    </tr>\n",
       "    <tr>\n",
       "      <th>Other</th>\n",
       "      <td>39.0</td>\n",
       "      <td>59275.90</td>\n",
       "      <td>38826.49</td>\n",
       "      <td>2859.0</td>\n",
       "      <td>37234.0</td>\n",
       "      <td>48000.0</td>\n",
       "      <td>81342.0</td>\n",
       "      <td>168000.0</td>\n",
       "    </tr>\n",
       "    <tr>\n",
       "      <th>US</th>\n",
       "      <td>104.0</td>\n",
       "      <td>160633.73</td>\n",
       "      <td>63408.25</td>\n",
       "      <td>58000.0</td>\n",
       "      <td>120120.0</td>\n",
       "      <td>146500.0</td>\n",
       "      <td>186325.0</td>\n",
       "      <td>416000.0</td>\n",
       "    </tr>\n",
       "  </tbody>\n",
       "</table>\n",
       "</div>"
      ],
      "text/plain": [
       "                    count       mean       std      min       25%       50%  \\\n",
       "employee_residence                                                            \n",
       "CA                    8.0  101641.88  44851.57  52396.0   74164.5   93869.0   \n",
       "DE                   15.0   99832.13  40432.36  49268.0   70332.0   88654.0   \n",
       "GB                   13.0   87248.15  39531.34  39263.0   56256.0   76958.0   \n",
       "IN                   13.0   31506.23  23948.38   5679.0   16904.0   29751.0   \n",
       "Other                39.0   59275.90  38826.49   2859.0   37234.0   48000.0   \n",
       "US                  104.0  160633.73  63408.25  58000.0  120120.0  146500.0   \n",
       "\n",
       "                         75%       max  \n",
       "employee_residence                      \n",
       "CA                  109573.5  196979.0  \n",
       "DE                  135936.0  173762.0  \n",
       "GB                  110037.0  183228.0  \n",
       "IN                   40481.0   94665.0  \n",
       "Other                81342.0  168000.0  \n",
       "US                  186325.0  416000.0  "
      ]
     },
     "metadata": {},
     "output_type": "display_data"
    },
    {
     "name": "stdout",
     "output_type": "stream",
     "text": [
      "\n",
      "Salary Data Scientist by Company_location\n"
     ]
    },
    {
     "data": {
      "text/html": [
       "<div>\n",
       "<style scoped>\n",
       "    .dataframe tbody tr th:only-of-type {\n",
       "        vertical-align: middle;\n",
       "    }\n",
       "\n",
       "    .dataframe tbody tr th {\n",
       "        vertical-align: top;\n",
       "    }\n",
       "\n",
       "    .dataframe thead th {\n",
       "        text-align: right;\n",
       "    }\n",
       "</style>\n",
       "<table border=\"1\" class=\"dataframe\">\n",
       "  <thead>\n",
       "    <tr style=\"text-align: right;\">\n",
       "      <th></th>\n",
       "      <th>count</th>\n",
       "      <th>mean</th>\n",
       "      <th>std</th>\n",
       "      <th>min</th>\n",
       "      <th>25%</th>\n",
       "      <th>50%</th>\n",
       "      <th>75%</th>\n",
       "      <th>max</th>\n",
       "    </tr>\n",
       "    <tr>\n",
       "      <th>company_location</th>\n",
       "      <th></th>\n",
       "      <th></th>\n",
       "      <th></th>\n",
       "      <th></th>\n",
       "      <th></th>\n",
       "      <th></th>\n",
       "      <th></th>\n",
       "      <th></th>\n",
       "    </tr>\n",
       "  </thead>\n",
       "  <tbody>\n",
       "    <tr>\n",
       "      <th>CA</th>\n",
       "      <td>8.0</td>\n",
       "      <td>95921.62</td>\n",
       "      <td>47905.12</td>\n",
       "      <td>52396.0</td>\n",
       "      <td>65561.5</td>\n",
       "      <td>81756.0</td>\n",
       "      <td>109573.50</td>\n",
       "      <td>196979.0</td>\n",
       "    </tr>\n",
       "    <tr>\n",
       "      <th>DE</th>\n",
       "      <td>15.0</td>\n",
       "      <td>97436.47</td>\n",
       "      <td>43792.86</td>\n",
       "      <td>25532.0</td>\n",
       "      <td>70332.0</td>\n",
       "      <td>88654.0</td>\n",
       "      <td>135936.00</td>\n",
       "      <td>173762.0</td>\n",
       "    </tr>\n",
       "    <tr>\n",
       "      <th>GB</th>\n",
       "      <td>12.0</td>\n",
       "      <td>89999.00</td>\n",
       "      <td>39968.45</td>\n",
       "      <td>39263.0</td>\n",
       "      <td>63142.5</td>\n",
       "      <td>84286.0</td>\n",
       "      <td>111756.25</td>\n",
       "      <td>183228.0</td>\n",
       "    </tr>\n",
       "    <tr>\n",
       "      <th>IN</th>\n",
       "      <td>11.0</td>\n",
       "      <td>31800.73</td>\n",
       "      <td>23883.24</td>\n",
       "      <td>5707.0</td>\n",
       "      <td>17673.0</td>\n",
       "      <td>29751.0</td>\n",
       "      <td>37144.50</td>\n",
       "      <td>94665.0</td>\n",
       "    </tr>\n",
       "    <tr>\n",
       "      <th>Other</th>\n",
       "      <td>36.0</td>\n",
       "      <td>62152.97</td>\n",
       "      <td>42223.46</td>\n",
       "      <td>2859.0</td>\n",
       "      <td>37529.5</td>\n",
       "      <td>49823.0</td>\n",
       "      <td>85425.75</td>\n",
       "      <td>168000.0</td>\n",
       "    </tr>\n",
       "    <tr>\n",
       "      <th>US</th>\n",
       "      <td>110.0</td>\n",
       "      <td>154326.08</td>\n",
       "      <td>66826.51</td>\n",
       "      <td>5679.0</td>\n",
       "      <td>111250.0</td>\n",
       "      <td>140850.0</td>\n",
       "      <td>180000.00</td>\n",
       "      <td>416000.0</td>\n",
       "    </tr>\n",
       "  </tbody>\n",
       "</table>\n",
       "</div>"
      ],
      "text/plain": [
       "                  count       mean       std      min       25%       50%  \\\n",
       "company_location                                                            \n",
       "CA                  8.0   95921.62  47905.12  52396.0   65561.5   81756.0   \n",
       "DE                 15.0   97436.47  43792.86  25532.0   70332.0   88654.0   \n",
       "GB                 12.0   89999.00  39968.45  39263.0   63142.5   84286.0   \n",
       "IN                 11.0   31800.73  23883.24   5707.0   17673.0   29751.0   \n",
       "Other              36.0   62152.97  42223.46   2859.0   37529.5   49823.0   \n",
       "US                110.0  154326.08  66826.51   5679.0  111250.0  140850.0   \n",
       "\n",
       "                        75%       max  \n",
       "company_location                       \n",
       "CA                109573.50  196979.0  \n",
       "DE                135936.00  173762.0  \n",
       "GB                111756.25  183228.0  \n",
       "IN                 37144.50   94665.0  \n",
       "Other              85425.75  168000.0  \n",
       "US                180000.00  416000.0  "
      ]
     },
     "metadata": {},
     "output_type": "display_data"
    },
    {
     "name": "stdout",
     "output_type": "stream",
     "text": [
      "\n",
      "Salary Data Scientist by Work_year\n"
     ]
    },
    {
     "data": {
      "text/html": [
       "<div>\n",
       "<style scoped>\n",
       "    .dataframe tbody tr th:only-of-type {\n",
       "        vertical-align: middle;\n",
       "    }\n",
       "\n",
       "    .dataframe tbody tr th {\n",
       "        vertical-align: top;\n",
       "    }\n",
       "\n",
       "    .dataframe thead th {\n",
       "        text-align: right;\n",
       "    }\n",
       "</style>\n",
       "<table border=\"1\" class=\"dataframe\">\n",
       "  <thead>\n",
       "    <tr style=\"text-align: right;\">\n",
       "      <th></th>\n",
       "      <th>count</th>\n",
       "      <th>mean</th>\n",
       "      <th>std</th>\n",
       "      <th>min</th>\n",
       "      <th>25%</th>\n",
       "      <th>50%</th>\n",
       "      <th>75%</th>\n",
       "      <th>max</th>\n",
       "    </tr>\n",
       "    <tr>\n",
       "      <th>work_year</th>\n",
       "      <th></th>\n",
       "      <th></th>\n",
       "      <th></th>\n",
       "      <th></th>\n",
       "      <th></th>\n",
       "      <th></th>\n",
       "      <th></th>\n",
       "      <th></th>\n",
       "    </tr>\n",
       "  </thead>\n",
       "  <tbody>\n",
       "    <tr>\n",
       "      <th>2020</th>\n",
       "      <td>28.0</td>\n",
       "      <td>102948.18</td>\n",
       "      <td>89203.03</td>\n",
       "      <td>5707.0</td>\n",
       "      <td>44869.25</td>\n",
       "      <td>78395.5</td>\n",
       "      <td>118500.0</td>\n",
       "      <td>412000.0</td>\n",
       "    </tr>\n",
       "    <tr>\n",
       "      <th>2021</th>\n",
       "      <td>74.0</td>\n",
       "      <td>96321.36</td>\n",
       "      <td>68976.06</td>\n",
       "      <td>2859.0</td>\n",
       "      <td>49734.50</td>\n",
       "      <td>88196.0</td>\n",
       "      <td>130019.5</td>\n",
       "      <td>416000.0</td>\n",
       "    </tr>\n",
       "    <tr>\n",
       "      <th>2022</th>\n",
       "      <td>90.0</td>\n",
       "      <td>142908.47</td>\n",
       "      <td>59498.13</td>\n",
       "      <td>18442.0</td>\n",
       "      <td>102750.50</td>\n",
       "      <td>140200.0</td>\n",
       "      <td>179250.0</td>\n",
       "      <td>380000.0</td>\n",
       "    </tr>\n",
       "  </tbody>\n",
       "</table>\n",
       "</div>"
      ],
      "text/plain": [
       "           count       mean       std      min        25%       50%       75%  \\\n",
       "work_year                                                                       \n",
       "2020        28.0  102948.18  89203.03   5707.0   44869.25   78395.5  118500.0   \n",
       "2021        74.0   96321.36  68976.06   2859.0   49734.50   88196.0  130019.5   \n",
       "2022        90.0  142908.47  59498.13  18442.0  102750.50  140200.0  179250.0   \n",
       "\n",
       "                max  \n",
       "work_year            \n",
       "2020       412000.0  \n",
       "2021       416000.0  \n",
       "2022       380000.0  "
      ]
     },
     "metadata": {},
     "output_type": "display_data"
    },
    {
     "name": "stdout",
     "output_type": "stream",
     "text": [
      "\n",
      "Salary Data Scientist by Remote_ratio\n"
     ]
    },
    {
     "data": {
      "text/html": [
       "<div>\n",
       "<style scoped>\n",
       "    .dataframe tbody tr th:only-of-type {\n",
       "        vertical-align: middle;\n",
       "    }\n",
       "\n",
       "    .dataframe tbody tr th {\n",
       "        vertical-align: top;\n",
       "    }\n",
       "\n",
       "    .dataframe thead th {\n",
       "        text-align: right;\n",
       "    }\n",
       "</style>\n",
       "<table border=\"1\" class=\"dataframe\">\n",
       "  <thead>\n",
       "    <tr style=\"text-align: right;\">\n",
       "      <th></th>\n",
       "      <th>count</th>\n",
       "      <th>mean</th>\n",
       "      <th>std</th>\n",
       "      <th>min</th>\n",
       "      <th>25%</th>\n",
       "      <th>50%</th>\n",
       "      <th>75%</th>\n",
       "      <th>max</th>\n",
       "    </tr>\n",
       "    <tr>\n",
       "      <th>remote_ratio</th>\n",
       "      <th></th>\n",
       "      <th></th>\n",
       "      <th></th>\n",
       "      <th></th>\n",
       "      <th></th>\n",
       "      <th></th>\n",
       "      <th></th>\n",
       "      <th></th>\n",
       "    </tr>\n",
       "  </thead>\n",
       "  <tbody>\n",
       "    <tr>\n",
       "      <th>0</th>\n",
       "      <td>49.0</td>\n",
       "      <td>110163.78</td>\n",
       "      <td>62581.24</td>\n",
       "      <td>2859.0</td>\n",
       "      <td>71982.0</td>\n",
       "      <td>104702.0</td>\n",
       "      <td>141300.0</td>\n",
       "      <td>250000.0</td>\n",
       "    </tr>\n",
       "    <tr>\n",
       "      <th>50</th>\n",
       "      <td>34.0</td>\n",
       "      <td>77350.97</td>\n",
       "      <td>42010.10</td>\n",
       "      <td>5707.0</td>\n",
       "      <td>50532.5</td>\n",
       "      <td>63278.5</td>\n",
       "      <td>106750.0</td>\n",
       "      <td>196979.0</td>\n",
       "    </tr>\n",
       "    <tr>\n",
       "      <th>100</th>\n",
       "      <td>109.0</td>\n",
       "      <td>136184.72</td>\n",
       "      <td>76540.78</td>\n",
       "      <td>5679.0</td>\n",
       "      <td>82500.0</td>\n",
       "      <td>140000.0</td>\n",
       "      <td>167875.0</td>\n",
       "      <td>416000.0</td>\n",
       "    </tr>\n",
       "  </tbody>\n",
       "</table>\n",
       "</div>"
      ],
      "text/plain": [
       "              count       mean       std     min      25%       50%       75%  \\\n",
       "remote_ratio                                                                    \n",
       "0              49.0  110163.78  62581.24  2859.0  71982.0  104702.0  141300.0   \n",
       "50             34.0   77350.97  42010.10  5707.0  50532.5   63278.5  106750.0   \n",
       "100           109.0  136184.72  76540.78  5679.0  82500.0  140000.0  167875.0   \n",
       "\n",
       "                   max  \n",
       "remote_ratio            \n",
       "0             250000.0  \n",
       "50            196979.0  \n",
       "100           416000.0  "
      ]
     },
     "metadata": {},
     "output_type": "display_data"
    },
    {
     "data": {
      "image/png": "[encoded data removed]",
      "text/plain": [
       "<Figure size 1500x2000 with 7 Axes>"
      ]
     },
     "metadata": {},
     "output_type": "display_data"
    }
   ],
   "source": [
    "# filter DS jobs\n",
    "data_scientists_data = data[data['job_title_DS_DE'] == \"DS\"]\n",
    "\n",
    "# all features to be plotted\n",
    "features = [\"experience_level\", \"employment_type\", \"company_size\", \"employee_residence\", \"company_location\", \"work_year\", \"remote_ratio\"]\n",
    "\n",
    "# create the plots\n",
    "plt.figure(figsize=(15, 20))\n",
    "\n",
    "# plot the relationship between salary and all features\n",
    "for i, feature in enumerate(features, 1):\n",
    "    plt.subplot(4, 2, i)  # 4x2 grid for all features\n",
    "    \n",
    "    # check if feature is categorical\n",
    "    if data_scientists_data[feature].dtype == 'object' or data_scientists_data[feature].dtype.name == 'category':\n",
    "        # boxplot for categorical features, hue for categories\n",
    "        sns.boxplot(x=data_scientists_data[feature], y=data_scientists_data[\"salary_in_usd\"], \n",
    "                    hue=data_scientists_data[feature], palette=\"Set2\")\n",
    "    else:\n",
    "        # boxplot for numerical features (no hue)\n",
    "        sns.boxplot(x=data_scientists_data[feature], y=data_scientists_data[\"salary_in_usd\"])\n",
    "    \n",
    "    plt.title(f\"Salary distribution by {feature}\")\n",
    "    plt.xlabel(feature)\n",
    "    plt.ylabel(\"Salary in USD\")\n",
    "\n",
    "    # statistics for the feature vs. salary\n",
    "    print(f\"\\nSalary Data Scientist by {feature.capitalize()}\")\n",
    "    data_agg = data_scientists_data.groupby(feature)['salary_in_usd'].describe().round(2)\n",
    "    display(data_agg)\n",
    "\n",
    "plt.tight_layout()\n",
    "plt.show()\n"
   ]
  },
  {
   "cell_type": "markdown",
   "metadata": {},
   "source": [
    "### Data Scientist Salaries by Experience Level, Employment Type, Company Size, and Other Variables"
   ]
  },
  {
   "cell_type": "markdown",
   "metadata": {},
   "source": [
    "#### Salaries vs. Experience Level\n",
    "\n",
    "The salaries for Data Scientists seem to vary significantly depending on experience. For **entry-level positions (EN)**, the **average salary is $58,590**, with salaries **ranging from $4,000 to $110,037**. The **median salary is $55,198**, indicating that most entry-level professionals earn between $35,000 and $55,000.\n",
    "\n",
    "For **mid-level professionals (MI)**, the **average salary is $87,721**, with a **range from $2,859 to $241,000**. The **median salary** for this group is **$82,500**, and most professionals in this category earn between $45,000 and $120,000.\n",
    "\n",
    "At the **senior level (SE)**, Data Scientists are paid an **average of $154,984**, with a **range from $20,171 to $412,000**, and the **median salary is $147,130**. Senior Data Scientists typically earn between $120,000 and $180,000.\n",
    "\n",
    "**Expert-level** Data Scientists (EX) have the highest salaries, with an **average of $196,376**, a **range from $69,741 to $416,000**, and a **median of $167,875**. Most professionals in this category earn between $135,000 and $237,000.\n",
    "\n",
    "The salaries seem to progress with experience level, with the average almost 4 times higher for executive roles than at the entry level."
   ]
  },
  {
   "cell_type": "markdown",
   "metadata": {},
   "source": [
    "#### Salaries vs. Employment Type\n",
    "\n",
    "**Contract (CT)** Data Scientists earn the highest **average salaries of $260,500**, ranging from **$105,000 to $416,000**. However, the contract category only includes two employees, so this data may be skewed by high earners.\n",
    "\n",
    "**Freelance (FL)** Data Scientists earn an average of **$100,000**, with only one employee listed in this category.\n",
    "\n",
    "For **Full-time (FT)** employees, the most common employment type, the **average salary is $118,339**, with a salary range from **$2,859 to $412,000**, and most employees earn between $64,000 and $158,000.\n",
    "\n",
    "**Part-time (PT)** employees, a group of just two, earn an **average of $60,834**, with a salary range from **$21,669 to $100,000**.\n"
   ]
  },
  {
   "cell_type": "markdown",
   "metadata": {},
   "source": [
    "#### Salaries by Company Size\n",
    "\n",
    "The size of the company significantly impacts the salary of a Data Scientist. Employees at **large companies (L)** earn an **average of $121,775**, with salaries **ranging from $13,400 to $412,000**. Most employees at large companies earn between **$57,000 and $155,000**.\n",
    "\n",
    "Data Scientists working at **medium-sized companies (M)** earn slightly more, with an **average salary of $129,193** snd the range from **$4,000 to $260,000**, where most employees earn between **$91,000 and $165,000**.\n",
    "\n",
    "**Small companies (S)** offer a **mean salary of $78,964**, the lowest accross the categories. The range is wide, from **$2,859 to $416,000**, but most employees earn between **$38,000 and $90,000**."
   ]
  },
  {
   "cell_type": "markdown",
   "metadata": {},
   "source": [
    "#### Salaries by Employee Residence\n",
    "\n",
    "**Canada (CA)** Data Scientists earn an **average salary of $101,642**, with salaries **ranging from $52,396 to $196,979**. Most Data Scientists in Canada earn between **$74,164 and $93,869**.\n",
    "\n",
    "In **Germany (DE)**, the **average salary is $99,832**, with a salary range of **$49,268 to $173,762**. Most professionals in this region earn between **$70,332 and $88,654**.\n",
    "\n",
    "For **Great Britain (GB)**, the **average salary is $87,248**, with a salary range from **$39,263 to $183,228**. Most employees earn between **$56,256 and $76,958**.\n",
    "\n",
    "**India (IN)** offers a lower average salary of **$31,506**, with salaries ranging from **$5,679 to $94,665**. Most professionals in India earn between **$16,904 and $29,751**.\n",
    "\n",
    "The **Other** category has an average salary of **$59,276**, with a range from **$2,859 to $168,000**, and most employees earn between **$37,234 and $48,000**.\n",
    "\n",
    "In the **United States (US)**, Data Scientists earn an **average salary of $160,634**, with salaries ranging from **$58,000 to $416,000**. Most employees earn between **$120,120 and $146,500**.\n",
    "\n",
    "The US residents earn the highest, followed by Canadiens, while Indian employess seem to earn the least."
   ]
  },
  {
   "cell_type": "markdown",
   "metadata": {},
   "source": [
    "#### Salaries by Company Location\n",
    "\n",
    "Data Scientists in companies lacated **Canada (CA)** earn an **average of $95,922**, with salaries ranging from **$52,396 to $196,979**. Most employees in these companies earn between **$65,561 and $81,756**.\n",
    "\n",
    "In **German companies (DE)**, the **average salary is $97,436**, with a salary range from **$25,532 to $173,762**. Most professionals earn between **$70,332 and $88,654**.\n",
    "\n",
    "For **Great Britain (GB)**, the **average salary is $89,999**, with a salary range from **$39,263 to $183,228**. Most employees earn between **$63,142 and $84,286**.\n",
    "\n",
    "In **Indian companies (IN)**, the **average salary is $31,801**, with a range from **$5,707 to $94,665**. Most employees earn between **$17,673 and $29,751**.\n",
    "\n",
    "The **Other** category has an average salary of **$62,153**, with a salary range from **$2,859 to $168,000**, and most employees earn between **$37,529 and $49,823**.\n",
    "\n",
    "In the **United States (US)**, companies pay Data Scientists an **average salary of $154,326**, with salaries ranging from **$5,679 to $416,000**. Most employees earn between **$111,250 and $140,850**.\n",
    "\n",
    "Similarly to the employee residency, the company location that offer the highest salaries to Data Scientists is the US, and the lowest - India, however the second best salaries are in Germany, closely followed by Canada. \n"
   ]
  },
  {
   "cell_type": "markdown",
   "metadata": {},
   "source": [
    "#### Salaries by Work Year\n",
    "\n",
    "In **2020**, Data Scientists earned an **average salary of $102,948**, with a salary range from **$5,707 to $412,000**. Most professionals earned between **$44,869 and $78,395**.\n",
    "\n",
    "In **2021**, the **average salary was $96,321**, with salaries ranging from **$2,859 to $416,000**. Most Data Scientists earned between **$49,734 and $88,196**.\n",
    "\n",
    "In **2022**, the **average salary increased to $142,908**, with a salary range from **$18,442 to $380,000**. Most employees earned between **$102,751 and $140,200**.\n",
    "\n",
    "There seem to be a slight descrease in Data Scientists' average salaries in 2021, and a rapid increase in 2022. However the boxplots indicate an expected gradual salary growth. "
   ]
  },
  {
   "cell_type": "markdown",
   "metadata": {},
   "source": [
    "#### Salaries by Remote Ratio\n",
    "\n",
    "For **Data Scientists with 0% remote work**, the **average salary is $110,164**, with a range from **$2,859 to $250,000**. Most employees earned between **$71,982 and $104,702**.\n",
    "\n",
    "In the **50% remote work** category, the **average salary is $77,351**, with a salary range from **$5,707 to $196,979**. Most professionals earned between **$50,533 and $63,279**.\n",
    "\n",
    "For **100% remote work**, Data Scientists earn an **average salary of $136,185**, with a salary range from **$5,679 to $416,000**. Most employees earned between **$82,500 and $140,000**."
   ]
  },
  {
   "cell_type": "markdown",
   "metadata": {},
   "source": [
    "#### Overall analysis\n",
    "\n",
    "* There are **substantial salary differences across different regions** (e.g., US, Canada, India), which suggest  a strong geographical influence on Data Scientist salaries, likely due to varying economic conditions, industry demand, and cost of living.\n",
    "\n",
    "* Work year data (2020, 2021, 2022) imply **salary growth over time**, with 2022 presenting a significant increase in average salaries. \n",
    "\n",
    "* The **100% remote Data Scientists appear to earn the highest salaries**.\n",
    "\n",
    "* The visual analysis shows that the data contains  **outliers accross the features and categories**, especially in categories with small sample sizes (e.g., Contract (CT), Freelance (FL), Part-time (PT), and certain locations like India), that need to be dealt with in the further analysis. \n",
    "\n",
    "* All of the listed features, namely Experience Level, Employment Type, Company Size, Employee Residence, Company Location, and Remote Ratio, seem to impact the Data Scientist salaries, however **the observed differences should be tested for statistical significance**. \n"
   ]
  },
  {
   "cell_type": "markdown",
   "metadata": {},
   "source": [
    "## Statistical Data Analysis"
   ]
  },
  {
   "cell_type": "code",
   "execution_count": 79,
   "metadata": {},
   "outputs": [],
   "source": [
    "# define funcion to check normality of the distribution\n",
    "def decision_normality(p):\n",
    "    print('p-value = {:.3f}'.format(p))\n",
    "    if p <= alpha:\n",
    "        print('p-value is less than {:.2f}. The data is not distributed normally'.format(alpha))\n",
    "    else:\n",
    "        print('p-value is greater than {:.2f}. The data is distributed normally'.format(alpha))\n",
    "\n",
    "\n",
    "# define function for making a decision about rejecting the null hypothesis\n",
    "def decision_hypothesis(p):\n",
    "    print('p-value = {:.3f}'.format(p))\n",
    "    if p <= alpha:\n",
    "        print('p-value is less than the given significance level {:.2f}. Reject the null hypothesis.'.format(alpha))\n",
    "    else:\n",
    "        print('p-value is greater than the given significance level  {:.2f}. No indications to reject the null hypothesis.'.format(alpha))\n",
    "      "
   ]
  },
  {
   "cell_type": "markdown",
   "metadata": {},
   "source": [
    "### Research question 1: Is there an annual salary increase for Data Scientists?"
   ]
  },
  {
   "cell_type": "markdown",
   "metadata": {},
   "source": [
    "Exploratory data analysis seems to indicate that there was a significant growth in Data Scientist salary over the observed period (2020-2022).\n",
    "\n",
    "**Formulate the null and alternative hypotheses**\n",
    "\n",
    "*Null hypothesis* ($H_0$): The average Data Scientist salary from 2020 to 2022 ($μ_1$) statistically decreased or remained the same.\n",
    "\n",
    "$$ H_0 : μ_1 \\text{ (2022)} <= μ_1 \\text{ (2020)} $$\n",
    "\n",
    "*Alternative hypothesis* ($H_1$): The average Data Scientist salary from 2020 to 2022 ($μ_1$) statistically increased.\n",
    "\n",
    "$$ H_1 : μ_1 \\text{ (2022)} > μ_1 \\text{ (2020)} $$\n"
   ]
  },
  {
   "cell_type": "markdown",
   "metadata": {},
   "source": [
    "**Normality Test**\n",
    "\n",
    "We will use the **Shapiro-Wilk test** to check whether the feature follows a normal distribution:\n",
    "\n",
    "Null Hypothesis ($H_0$): The data distribution is normal.\n",
    "\n",
    "Alternative Hypothesis ($H_1$): The data distribution is different from normal.\n",
    "\n",
    "**Note:** We will use the same test with the same null- and alternative hypothesis for the following normality tests in the study."
   ]
  },
  {
   "cell_type": "code",
   "execution_count": 80,
   "metadata": {},
   "outputs": [
    {
     "name": "stdout",
     "output_type": "stream",
     "text": [
      "For 2020:\n",
      "p-value = 0.000\n",
      "p-value is less than 0.05. The data is not distributed normally\n",
      "\n",
      "For 2021:\n",
      "p-value = 0.000\n",
      "p-value is less than 0.05. The data is not distributed normally\n",
      "\n",
      "For 2022:\n",
      "p-value = 0.000\n",
      "p-value is less than 0.05. The data is not distributed normally\n"
     ]
    }
   ],
   "source": [
    "# filter data by year\n",
    "data_2020 = data.loc[data['work_year'] == 2020,'salary_in_usd']\n",
    "data_2021 = data.loc[data['work_year'] == 2021,'salary_in_usd']\n",
    "data_2022 = data.loc[data['work_year'] == 2022,'salary_in_usd']\n",
    "\n",
    "# Print the length of the filtered data\n",
    "# print(f\"Length of data_2020: {len(data_2020)}\")\n",
    "# print(f\"Length of data_2021: {len(data_2021)}\")\n",
    "# print(f\"Length of data_2023: {len(data_2022)}\")\n",
    "\n",
    "# Shapiro-Wilk test for each year with the decision function\n",
    "print('For 2020:')\n",
    "result_2020 = stats.shapiro(data_2020)\n",
    "decision_normality(result_2020[1])\n",
    "\n",
    "print('\\nFor 2021:')\n",
    "result_2021 = stats.shapiro(data_2021)\n",
    "decision_normality(result_2021[1])\n",
    "\n",
    "print('\\nFor 2022:')\n",
    "result_2022 = stats.shapiro(data_2022)\n",
    "decision_normality(result_2022[1])\n"
   ]
  },
  {
   "cell_type": "markdown",
   "metadata": {},
   "source": [
    "**Choosing the appropriate statistical test**\n",
    "\n",
    "To select the right test, we will use the followingdecision-making algorithm:\n",
    "* What type of variable is \"Salary_in_USD\"? — Quantitative.\n",
    "* How many groups are we comparing? — Three (2020, 2021, and 2022 years).\n",
    "* Are the groups dependent? — No.\n",
    "* Is the variable normally distributed? — No (based on the Shapiro-Wilk test results).\n",
    "\n",
    "As the data is not normally distributed, we will use a non-parametric test **Kruskal-Wallis H** to compare the salaries across the three years. \n"
   ]
  },
  {
   "cell_type": "code",
   "execution_count": 81,
   "metadata": {},
   "outputs": [
    {
     "name": "stdout",
     "output_type": "stream",
     "text": [
      "p-value = 0.000\n",
      "p-value is less than the given significance level 0.05. Reject the null hypothesis.\n"
     ]
    }
   ],
   "source": [
    "# perform the Kruskal-Wallis H test and use the decision function\n",
    "_, p = stats.kruskal(data_2020, data_2021, data_2022)\n",
    "decision_hypothesis(p)"
   ]
  },
  {
   "cell_type": "markdown",
   "metadata": {},
   "source": [
    "**Conclusion**\n",
    "\n",
    "Since the null hypothesis was rejected, the alternative hypothesis is correct. Therefore, **there was a statistically significant growth in Data Scientist salaries over the observed period** (2020, 2021, and 2022)."
   ]
  },
  {
   "cell_type": "markdown",
   "metadata": {},
   "source": [
    "### Research question 2: How do Data Scientist and Data Engineer salaries compare in 2022?\n",
    "\n",
    "**Formulate the null and alternative hypotheses**\n",
    "\n",
    "**Null hypothesis** ($H_0$): There is no difference in the average salaries between Data Scientists and Data Engineers in 2022.\n",
    "\n",
    "$$ H_0: μ_{DS} (2022) = μ_{DE} (2022) $$\n",
    "\n",
    "Where:\n",
    "- $μ_{DS}$ is the average salary of Data Scientists in 2022.\n",
    "- $μ_{DE}$ is the average salary of Data Engineers in 2022.\n",
    "\n",
    "**Alternative hypothesis** ($H_1$): The average salary of Data Scientists in 2022 is different from (greater or lesser than) that of Data Engineers.\n",
    "\n",
    "$$ H_1: μ_{DS} (2022) ≠ μ_{DE} (2022) $$\n",
    "\n",
    "Where:\n",
    "- $μ_{DS}$ is the average salary of Data Scientists in 2022.\n",
    "- $μ_{DE}$ is the average salary of Data Engineers in 2022.\n",
    "\n",
    "Fisrt, we will get the boxplot and the discriptive statistics for the salaries in both groups in 2002, to estimate if there was any difference between the groups."
   ]
  },
  {
   "cell_type": "code",
   "execution_count": 82,
   "metadata": {},
   "outputs": [
    {
     "data": {
      "text/html": [
       "<div>\n",
       "<style scoped>\n",
       "    .dataframe tbody tr th:only-of-type {\n",
       "        vertical-align: middle;\n",
       "    }\n",
       "\n",
       "    .dataframe tbody tr th {\n",
       "        vertical-align: top;\n",
       "    }\n",
       "\n",
       "    .dataframe thead th {\n",
       "        text-align: right;\n",
       "    }\n",
       "</style>\n",
       "<table border=\"1\" class=\"dataframe\">\n",
       "  <thead>\n",
       "    <tr style=\"text-align: right;\">\n",
       "      <th></th>\n",
       "      <th>count</th>\n",
       "      <th>mean</th>\n",
       "      <th>std</th>\n",
       "      <th>min</th>\n",
       "      <th>25%</th>\n",
       "      <th>50%</th>\n",
       "      <th>75%</th>\n",
       "      <th>max</th>\n",
       "    </tr>\n",
       "    <tr>\n",
       "      <th>job_title_DS_DE</th>\n",
       "      <th></th>\n",
       "      <th></th>\n",
       "      <th></th>\n",
       "      <th></th>\n",
       "      <th></th>\n",
       "      <th></th>\n",
       "      <th></th>\n",
       "      <th></th>\n",
       "    </tr>\n",
       "  </thead>\n",
       "  <tbody>\n",
       "    <tr>\n",
       "      <th>DE</th>\n",
       "      <td>90.0</td>\n",
       "      <td>126284.711111</td>\n",
       "      <td>55645.855116</td>\n",
       "      <td>25000.0</td>\n",
       "      <td>78894.5</td>\n",
       "      <td>119093.5</td>\n",
       "      <td>160000.0</td>\n",
       "      <td>324000.0</td>\n",
       "    </tr>\n",
       "    <tr>\n",
       "      <th>DS</th>\n",
       "      <td>90.0</td>\n",
       "      <td>142908.466667</td>\n",
       "      <td>59498.133287</td>\n",
       "      <td>18442.0</td>\n",
       "      <td>102750.5</td>\n",
       "      <td>140200.0</td>\n",
       "      <td>179250.0</td>\n",
       "      <td>380000.0</td>\n",
       "    </tr>\n",
       "  </tbody>\n",
       "</table>\n",
       "</div>"
      ],
      "text/plain": [
       "                 count           mean           std      min       25%  \\\n",
       "job_title_DS_DE                                                          \n",
       "DE                90.0  126284.711111  55645.855116  25000.0   78894.5   \n",
       "DS                90.0  142908.466667  59498.133287  18442.0  102750.5   \n",
       "\n",
       "                      50%       75%       max  \n",
       "job_title_DS_DE                                \n",
       "DE               119093.5  160000.0  324000.0  \n",
       "DS               140200.0  179250.0  380000.0  "
      ]
     },
     "metadata": {},
     "output_type": "display_data"
    },
    {
     "data": {
      "image/png": "[encoded data removed]",
      "text/plain": [
       "<Figure size 800x600 with 1 Axes>"
      ]
     },
     "metadata": {},
     "output_type": "display_data"
    }
   ],
   "source": [
    "# filter year 2022\n",
    "data_2022 = data[data['work_year'] == 2022]\n",
    "\n",
    "# filter the data for Data Scientists and Data Engineers\n",
    "data_2022_ds_de = data_2022[data_2022['job_title_DS_DE'].isin(['DS', 'DE'])]\n",
    "\n",
    "# get descriptive statistics for salaries of DS and DE in 2022\n",
    "salary_description = data_2022_ds_de.groupby('job_title_DS_DE')['salary_in_usd'].describe()\n",
    "display(salary_description)\n",
    "\n",
    "# plot a figure for visualization\n",
    "plt.figure(figsize=(8, 6))\n",
    "\n",
    "# create a set for visualisation \n",
    "sns.boxplot(x='job_title_DS_DE', y='salary_in_usd', data=data_2022_ds_de)\n",
    "\n",
    "# boxplot to compare the salary distribution between the two roles\n",
    "sns.boxplot(x='job_title_DS_DE', y='salary_in_usd', data=data_2022_ds_de, hue='job_title_DS_DE')\n",
    "\n",
    "plt.title('Salary, Data Scientists and Data Engineers (2022)', fontsize=16)\n",
    "plt.xlabel('Job Title', fontsize=12)\n",
    "plt.ylabel('Salary in USD', fontsize=12)\n",
    "\n",
    "\n",
    "plt.show()\n"
   ]
  },
  {
   "cell_type": "markdown",
   "metadata": {},
   "source": [
    "The boxplot reveals that in 2022, Data Scientists earned higher salaries compared to Data Engineers, with the **average salary for Data Scientists slightly above $126,000**, while **Data Engineers' average salary was just under $142,000.**\n",
    "\n",
    "We will now proceed to check the apparent difference for statistical significance. First we will run the normality test on the relevant data to determine the appropriate statistical test."
   ]
  },
  {
   "cell_type": "code",
   "execution_count": 83,
   "metadata": {},
   "outputs": [
    {
     "name": "stdout",
     "output_type": "stream",
     "text": [
      "For Data Scientists (2022):\n",
      "p-value = 0.023\n",
      "p-value is less than 0.05. The data is not distributed normally\n",
      "\n",
      "For Data Engineers (2022):\n",
      "p-value = 0.010\n",
      "p-value is less than 0.05. The data is not distributed normally\n"
     ]
    }
   ],
   "source": [
    "# filter the dataset for Data Scientist and Data Engineer salaries in 2022\n",
    "ds_2022 = data.loc[(data['work_year'] == 2022) & (data['job_title_DS_DE'] == 'DS'), 'salary_in_usd']\n",
    "de_2022 = data.loc[(data['work_year'] == 2022) & (data['job_title_DS_DE'] == 'DE'), 'salary_in_usd']\n",
    "\n",
    "# print the length of the filtered data\n",
    "# print(f\"Length of ds_2022: {len(ds_2022)}\")\n",
    "# print(f\"Length of de_2022: {len(de_2022)}\")\n",
    "\n",
    "# Shapiro-Wilk test for normality with the decision function\n",
    "print('For Data Scientists (2022):')\n",
    "result_ds_2022 = stats.shapiro(ds_2022)\n",
    "decision_normality(result_ds_2022[1])\n",
    "\n",
    "print('\\nFor Data Engineers (2022):')\n",
    "result_de_2022 = stats.shapiro(de_2022)\n",
    "decision_normality(result_de_2022[1])\n"
   ]
  },
  {
   "cell_type": "markdown",
   "metadata": {},
   "source": [
    "Since the data is not normally distributed, the appropriate non-parametric test to compare the salaries of Data Scientists and Data Engineers in 2022 is **the Mann-Whitney U test**, as it is designed to compare two independent groups, with a single measure."
   ]
  },
  {
   "cell_type": "code",
   "execution_count": 84,
   "metadata": {},
   "outputs": [
    {
     "name": "stdout",
     "output_type": "stream",
     "text": [
      "p-value = 0.031\n",
      "p-value is less than the given significance level 0.05. Reject the null hypothesis.\n"
     ]
    }
   ],
   "source": [
    "# Mann-Whitney U test for Data Scientists and Data Engineers salaries in 2022\n",
    "_, p_value = stats.mannwhitneyu(ds_2022, de_2022, alternative='two-sided')\n",
    "\n",
    "# the decision function to interpret the result\n",
    "decision_hypothesis(p_value)"
   ]
  },
  {
   "cell_type": "markdown",
   "metadata": {},
   "source": [
    "**Conclusion**\n",
    "\n",
    "Since the p-value is less than the given significance level (0.05), we **reject the null hypothesis**. This means that there is a statistically significant difference in the salaries of Data Scientists and Data Engineers in 2022. It gives **sufficient evidence that in 2022 Data Scientists were paid higher salaries than Data Engineers.** \n",
    "\n",
    "**Note:** Based on available data from open sources, Data Engineers (DE) generally earned slightly higher average salaries than Data Scientists (DS) in 2022. The salary figures we compared might not fully reflect the scope of roles or industry, so the results musst be taken with caution."
   ]
  },
  {
   "cell_type": "markdown",
   "metadata": {},
   "source": [
    "### Research question 3: * How do Data Scientist salaries vary across companies of different sizes?\n",
    "\n",
    "### **Formulate the Null and Alternative Hypotheses**\n",
    "\n",
    "**Null hypothesis** ($H_0$): There is no difference in the average salaries of Data Scientists across companies of different sizes in 2022.\n",
    "\n",
    "$$ H_0: μ_{small} = μ_{medium} = μ_{large} $$\n",
    "\n",
    "Where:\n",
    "- $μ_{small}$ is the average salary of Data Scientists working in small companies.\n",
    "- $μ_{medium}$ is the average salary of Data Scientists working in medium-sized companies.\n",
    "- $μ_{large}$ is the average salary of Data Scientists working in large companies.\n",
    "\n",
    "**Alternative hypothesis** ($H_1$): There is a difference in the average salaries of Data Scientists across companies of different sizes in 2022.\n",
    "\n",
    "$$ H_1: μ_{small} ≠ μ_{medium} ≠ μ_{large} $$\n",
    "\n",
    "Where:\n",
    "- $μ_{small}$ is the average salary of Data Scientists working in small companies.\n",
    "- $μ_{medium}$ is the average salary of Data Scientists working in medium-sized companies.\n",
    "- $μ_{large}$ is the average salary of Data Scientists working in large companies."
   ]
  },
  {
   "cell_type": "markdown",
   "metadata": {},
   "source": [
    "As we saw in the Discriptive Data Analysis, the company size is a factor that affects salaries in the IT industry, with the highest pay offered by medium-sized employers, and the lowest - by small companies. Now we will visualise the data for Data Scientists only and get the discriptive statistics to see if they suggest any influence a company size on the Data Scientists salaries."
   ]
  },
  {
   "cell_type": "code",
   "execution_count": 85,
   "metadata": {},
   "outputs": [
    {
     "name": "stdout",
     "output_type": "stream",
     "text": [
      "Descriptive Statistics for Small Companies:\n",
      "count        28.000000\n",
      "mean      78964.821429\n",
      "std       79917.348509\n",
      "min        2859.000000\n",
      "25%       38030.750000\n",
      "50%       66233.500000\n",
      "75%       90309.250000\n",
      "max      416000.000000\n",
      "Name: salary_in_usd, dtype: float64\n",
      "\n",
      "Descriptive Statistics for Medium Companies:\n",
      "count        93.000000\n",
      "mean     129193.494624\n",
      "std       57169.502055\n",
      "min        4000.000000\n",
      "25%       91614.000000\n",
      "50%      137141.000000\n",
      "75%      165220.000000\n",
      "max      260000.000000\n",
      "Name: salary_in_usd, dtype: float64\n",
      "\n",
      "Descriptive Statistics for Large Companies:\n",
      "count        71.000000\n",
      "mean     121775.802817\n",
      "std       79795.901201\n",
      "min       13400.000000\n",
      "25%       57128.000000\n",
      "50%      115000.000000\n",
      "75%      155333.500000\n",
      "max      412000.000000\n",
      "Name: salary_in_usd, dtype: float64\n"
     ]
    },
    {
     "data": {
      "image/png": "[encoded data removed]",
      "text/plain": [
       "<Figure size 1000x600 with 1 Axes>"
      ]
     },
     "metadata": {},
     "output_type": "display_data"
    }
   ],
   "source": [
    "# filter the data for Data Scientists\n",
    "data_ds = data[data['job_title_DS_DE'] == 'DS']\n",
    "\n",
    "# filter the data by company size\n",
    "data_small = data_ds[data_ds['company_size'] == 'S']\n",
    "data_medium = data_ds[data_ds['company_size'] == 'M']\n",
    "data_large = data_ds[data_ds['company_size'] == 'L']\n",
    "\n",
    "# get discriptive satistics the data for each company size group\n",
    "print(\"Descriptive Statistics for Small Companies:\")\n",
    "print(data_small['salary_in_usd'].describe())\n",
    "\n",
    "print(\"\\nDescriptive Statistics for Medium Companies:\")\n",
    "print(data_medium['salary_in_usd'].describe())\n",
    "\n",
    "print(\"\\nDescriptive Statistics for Large Companies:\")\n",
    "print(data_large['salary_in_usd'].describe())\n",
    "\n",
    "# a DataFrame to use in a boxplot\n",
    "data_combined = data_ds[data_ds['company_size'].isin(['S', 'M', 'L'])]\n",
    "\n",
    "# boxplot to compare the salaries by company size\n",
    "plt.figure(figsize=(10, 6))\n",
    "sns.boxplot(x='company_size', y='salary_in_usd', data=data_combined, hue='company_size')\n",
    "plt.title('Comparison of Data Scientist Salaries for Companies of Different Sizes (2022)', fontsize=15)\n",
    "plt.xlabel('Company Size', fontsize=12)\n",
    "plt.ylabel('Salary in USD', fontsize=12)\n",
    "plt.show()\n"
   ]
  },
  {
   "cell_type": "markdown",
   "metadata": {},
   "source": [
    "Visual analysis suggests, that the that salaries vary significantly with highest salaries  paid to Data Scientists in medium-sized companies, and the lowest - in small companies. However, based  on the descriptive statistics above, **Data Scientists in small companies** have an average salary of **$78,965**. **In medium-sized companies**, Data Scientists earn an average salary of **$129,193**, and  **Large companies** pay an average salary of **$121,776** Overall, the data suggests that **Data Scientists in medium and large companies tend to have higher and more consistent salaries** compared to those in small companies as the median values for these two groups fall closer to the mean values.\n",
    "\n",
    "Next, we will assess the normality of the data distribution and choose an appropriate statistical test to determine whether the differences are statistically significant."
   ]
  },
  {
   "cell_type": "code",
   "execution_count": 86,
   "metadata": {},
   "outputs": [
    {
     "name": "stdout",
     "output_type": "stream",
     "text": [
      "Normality Test for Small Companies:\n",
      "p-value = 0.000\n",
      "p-value is less than 0.05. The data is not distributed normally\n",
      "\n",
      "Normality Test for Medium Companies:\n",
      "p-value = 0.565\n",
      "p-value is greater than 0.05. The data is distributed normally\n",
      "\n",
      "Normality Test for Large Companies:\n",
      "p-value = 0.000\n",
      "p-value is less than 0.05. The data is not distributed normally\n"
     ]
    }
   ],
   "source": [
    "# the Shapiro-Wilk test for normality on filtered data\n",
    "print(\"Normality Test for Small Companies:\")\n",
    "result_small = stats.shapiro(data_small['salary_in_usd'])\n",
    "decision_normality(result_small[1])\n",
    "\n",
    "print(\"\\nNormality Test for Medium Companies:\")\n",
    "result_medium = stats.shapiro(data_medium['salary_in_usd'])\n",
    "decision_normality(result_medium[1])\n",
    "\n",
    "print(\"\\nNormality Test for Large Companies:\")\n",
    "result_large = stats.shapiro(data_large['salary_in_usd'])\n",
    "decision_normality(result_large[1])"
   ]
  },
  {
   "cell_type": "markdown",
   "metadata": {},
   "source": [
    "Since the data isn't normally distributed we need to use a non-parametric test to compare the salaries across the different company sizes. We will do the **Kruskal-Wallis H test**, as it is designed to compare more than two independent groups (a non-parametric version of one-way ANOVA)"
   ]
  },
  {
   "cell_type": "code",
   "execution_count": 87,
   "metadata": {},
   "outputs": [
    {
     "name": "stdout",
     "output_type": "stream",
     "text": [
      "p-value = 0.000\n",
      "p-value is less than the given significance level 0.05. Reject the null hypothesis.\n"
     ]
    }
   ],
   "source": [
    "# Kruskal-Wallis H test\n",
    "_, p = stats.kruskal(data_small['salary_in_usd'], data_medium['salary_in_usd'], data_large['salary_in_usd'])\n",
    "decision_hypothesis(p)"
   ]
  },
  {
   "cell_type": "markdown",
   "metadata": {},
   "source": [
    "**Conclusion**\n",
    "\n",
    "We can reject the null hypothesis based on the p-value being less than the significance level (0.05), this indicates that **there is a statistically significant difference in the salaries of Data Scientists across companies of different sizes, with medium and large companies offereng a higher pay to Data Scientists than the small ones.**"
   ]
  },
  {
   "cell_type": "markdown",
   "metadata": {},
   "source": [
    "### Research question 4: Is there a correlation between the presence of Data Scientist and Data Engineer roles and company size?\n",
    "\n",
    "**Formulating the Null and Alternative Hypotheses**\n",
    "\n",
    "**Null Hypothesis** ($H_0$): There is no relationship between job role (Data Scientist or Data Engineer) and company size (the two variables are independent).\n",
    "\n",
    "**Alternative Hypothesis** ($H_1$): There is a relationship between job role (Data Scientist or Data Engineer) and company size (the two variables are dependent).\n",
    "\n",
    "To adress this question, we will begin with creating a **contigency table** for Data Scientists and Data Engineers across three company sizes."
   ]
  },
  {
   "cell_type": "code",
   "execution_count": 88,
   "metadata": {},
   "outputs": [
    {
     "data": {
      "text/html": [
       "<div>\n",
       "<style scoped>\n",
       "    .dataframe tbody tr th:only-of-type {\n",
       "        vertical-align: middle;\n",
       "    }\n",
       "\n",
       "    .dataframe tbody tr th {\n",
       "        vertical-align: top;\n",
       "    }\n",
       "\n",
       "    .dataframe thead th {\n",
       "        text-align: right;\n",
       "    }\n",
       "</style>\n",
       "<table border=\"1\" class=\"dataframe\">\n",
       "  <thead>\n",
       "    <tr style=\"text-align: right;\">\n",
       "      <th>job_title_DS_DE</th>\n",
       "      <th>DE</th>\n",
       "      <th>DS</th>\n",
       "    </tr>\n",
       "    <tr>\n",
       "      <th>company_size</th>\n",
       "      <th></th>\n",
       "      <th></th>\n",
       "    </tr>\n",
       "  </thead>\n",
       "  <tbody>\n",
       "    <tr>\n",
       "      <th>L</th>\n",
       "      <td>45</td>\n",
       "      <td>71</td>\n",
       "    </tr>\n",
       "    <tr>\n",
       "      <th>M</th>\n",
       "      <td>92</td>\n",
       "      <td>93</td>\n",
       "    </tr>\n",
       "    <tr>\n",
       "      <th>S</th>\n",
       "      <td>11</td>\n",
       "      <td>28</td>\n",
       "    </tr>\n",
       "  </tbody>\n",
       "</table>\n",
       "</div>"
      ],
      "text/plain": [
       "job_title_DS_DE  DE  DS\n",
       "company_size           \n",
       "L                45  71\n",
       "M                92  93\n",
       "S                11  28"
      ]
     },
     "metadata": {},
     "output_type": "display_data"
    }
   ],
   "source": [
    "# filter data for DS and DE roles \n",
    "data_ds_de = data[data['job_title_DS_DE'].isin(['DS', 'DE'])]\n",
    "\n",
    "# create a contingency table of job roles (DS, DE) for company sizes S, M and L\n",
    "contingency_table = pd.crosstab(data_ds_de['company_size'], data_ds_de['job_title_DS_DE'])\n",
    "\n",
    "display(contingency_table)\n"
   ]
  },
  {
   "cell_type": "markdown",
   "metadata": {},
   "source": [
    "Now, we will visualise the relevant data using a heatmap to observe a possible relationship between the presence of Data Scientists and Data Engineers in the company and its size."
   ]
  },
  {
   "cell_type": "code",
   "execution_count": 89,
   "metadata": {},
   "outputs": [
    {
     "data": {
      "image/png": "[encoded data removed]",
      "text/plain": [
       "<Figure size 800x600 with 1 Axes>"
      ]
     },
     "metadata": {},
     "output_type": "display_data"
    }
   ],
   "source": [
    "# create a heatmap of the contingency table\n",
    "plt.figure(figsize=(8, 6))\n",
    "sns.heatmap(contingency_table, annot=True, cmap='coolwarm', fmt='d', cbar=False)\n",
    "\n",
    "# labels and title\n",
    "plt.title(\"Heatmap of Job Titles (DS, DE) vs Company Size\", fontsize=16)\n",
    "plt.xlabel(\"Company Size\", fontsize=12)\n",
    "plt.ylabel(\"Job Title\", fontsize=12)\n",
    "\n",
    "plt.show()"
   ]
  },
  {
   "cell_type": "markdown",
   "metadata": {},
   "source": [
    "The cross-table shows that in **large companies**, Data Scientists (**71**) outnumber Data Engineers (**45**), so there are more Data Scientists. In **medium-sized companies**, the numbers are almost equal, with Data Scientists (**93**) and Data Engineers (**92**). In **small companies**, Data Scientists (**28**) are more common than Data Engineers (**11**), but both roles are fewer overall.\n",
    "\n",
    "Next, we will check if the differences are statistically significant."
   ]
  },
  {
   "cell_type": "markdown",
   "metadata": {},
   "source": [
    "**Choosing the Appropriate Statistical Test**  \n",
    "\n",
    "To determine the appropriate test, we follow a decision-making process by answering the following questions:  \n",
    "* What type of variable is \"Job Role\" (Data Scientist or Data Engineer)? — Categorical.  \n",
    "* How many groups are being compared? — Two.  \n",
    "* Are we testing for independence between the groups? — Yes.  \n",
    "\n",
    "To test our hypothesis, we can use the **Chi-Square ($\\chi^2$) test**.  "
   ]
  },
  {
   "cell_type": "code",
   "execution_count": 90,
   "metadata": {},
   "outputs": [
    {
     "name": "stdout",
     "output_type": "stream",
     "text": [
      "p-value = 0.022\n",
      "p-value is less than the given significance level 0.05. Reject the null hypothesis.\n"
     ]
    }
   ],
   "source": [
    "# perform the Chi-Square test\n",
    "_, p, _, _ = chi2_contingency(contingency_table)\n",
    "decision_hypothesis(p)"
   ]
  },
  {
   "cell_type": "markdown",
   "metadata": {},
   "source": [
    "**Conclusion**\n",
    "\n",
    "Since p value is less than significance level (0.05), we reject the null hypothesis, meaning **company size and job role (DS vs. DE) are correlated.**\n"
   ]
  },
  {
   "cell_type": "markdown",
   "metadata": {},
   "source": [
    "### Research question 5: What are key factors influencing the salaries of Data Scientists**. "
   ]
  },
  {
   "cell_type": "markdown",
   "metadata": {},
   "source": [
    "As we have seen above, Work Year and Company Size have statistically significant effect on Data Scientists salaries. The visual analysis suggest that the salaries might also be affected by other variables, namely: Experience Level, Employment Type, Company Location, Employee Residency, and Remote Ratio.\n",
    "\n",
    "We will now check if the effect these factors have is statistically significant."
   ]
  },
  {
   "cell_type": "markdown",
   "metadata": {},
   "source": [
    "**Formulate Hypotheses**\n",
    "\n",
    "For each factor (Experience Level, Employment Type, Company Location, Employee Residency, and Remote Ratio), we will assume:\n",
    "\n",
    "**Null hypothesis** ($H_0$): There is no significant difference in the salaries of Data Scientists across the categories of this factor.\n",
    "\n",
    "**Alternative hypothesis** ($H_1$): There is a significant difference in the salaries of Data Scientists across the categories of this factor.\n"
   ]
  },
  {
   "cell_type": "markdown",
   "metadata": {},
   "source": [
    "#### 5.1 Experience Level vs. Data Scientists Salaries"
   ]
  },
  {
   "cell_type": "code",
   "execution_count": 91,
   "metadata": {},
   "outputs": [
    {
     "name": "stdout",
     "output_type": "stream",
     "text": [
      "Shapiro-Wilk test for Experience Level (Entry Level):\n",
      "p-value = 0.252\n",
      "p-value is greater than 0.05. The data is distributed normally\n",
      "\n",
      "Shapiro-Wilk test for Experience Level (Mid Level):\n",
      "p-value = 0.081\n",
      "p-value is greater than 0.05. The data is distributed normally\n",
      "\n",
      "Shapiro-Wilk test for Experience Level (Senior Level):\n",
      "p-value = 0.000\n",
      "p-value is less than 0.05. The data is not distributed normally\n",
      "\n",
      "Shapiro-Wilk test for Experience Level (Senior Level):\n",
      "p-value = 0.418\n",
      "p-value is greater than 0.05. The data is distributed normally\n"
     ]
    }
   ],
   "source": [
    "# experience level (entry, mid, senior)\n",
    "\n",
    "# filter the salary data for each Experience Level category\n",
    "entry_level_salaries = data_ds[data_ds['experience_level'] == 'EN']['salary_in_usd']\n",
    "mid_level_salaries = data_ds[data_ds['experience_level'] == 'MI']['salary_in_usd']\n",
    "senior_level_salaries = data_ds[data_ds['experience_level'] == 'SE']['salary_in_usd']\n",
    "executive_level_salaries = data_ds[data_ds['experience_level'] == 'EX']['salary_in_usd']\n",
    "\n",
    "# normality tests for each category\n",
    "print(\"Shapiro-Wilk test for Experience Level (Entry Level):\")\n",
    "_, p = stats.shapiro(entry_level_salaries)\n",
    "decision_normality(p)\n",
    "\n",
    "print(\"\\nShapiro-Wilk test for Experience Level (Mid Level):\")\n",
    "_, p = stats.shapiro(mid_level_salaries)\n",
    "decision_normality(p)\n",
    "\n",
    "print(\"\\nShapiro-Wilk test for Experience Level (Senior Level):\")\n",
    "_, p = stats.shapiro(senior_level_salaries)\n",
    "decision_normality(p)\n",
    "\n",
    "print(\"\\nShapiro-Wilk test for Experience Level (Senior Level):\")\n",
    "_, p = stats.shapiro(executive_level_salaries)\n",
    "decision_normality(p)"
   ]
  },
  {
   "cell_type": "markdown",
   "metadata": {},
   "source": [
    "Since the data in one of the categories is not normally distributed, we will choose a non-parametric test **Kruskal-Walli**s to compare salary distributions."
   ]
  },
  {
   "cell_type": "code",
   "execution_count": 92,
   "metadata": {},
   "outputs": [
    {
     "name": "stdout",
     "output_type": "stream",
     "text": [
      "p-value = 0.418\n",
      "p-value is greater than the given significance level  0.05. No indications to reject the null hypothesis.\n"
     ]
    }
   ],
   "source": [
    "_, p_value = stats.kruskal(entry_level_salaries, mid_level_salaries, senior_level_salaries, executive_level_salaries)\n",
    "decision_hypothesis(p)"
   ]
  },
  {
   "cell_type": "markdown",
   "metadata": {},
   "source": [
    "The non-parametric test showed there is no statistically significant effect of Experience Level on Data Scientists salary. As the result us unexpected, we will try and re-check the statistical significance of the differences in salaries using the **ANOVA tests for the categories with normally distributed data.**"
   ]
  },
  {
   "cell_type": "code",
   "execution_count": 93,
   "metadata": {},
   "outputs": [
    {
     "name": "stdout",
     "output_type": "stream",
     "text": [
      "p-value = 0.418\n",
      "p-value is greater than the given significance level  0.05. No indications to reject the null hypothesis.\n"
     ]
    }
   ],
   "source": [
    "_, p_value = stats.f_oneway(entry_level_salaries, mid_level_salaries, executive_level_salaries)\n",
    "decision_hypothesis(p)"
   ]
  },
  {
   "cell_type": "markdown",
   "metadata": {},
   "source": [
    "😢  CAN'T BE TRUE. I RESIGN AND GO INTO FLORISTICS."
   ]
  },
  {
   "cell_type": "markdown",
   "metadata": {},
   "source": [
    "The ANOVA test also suggests no statistically significant differences in Data Scientists salaries for different experience levels.\n",
    "\n",
    "**Conclusion**\n",
    "\n",
    "Although both ANOVA and Kruskal-Wallis tests showed no statistically significant differences in Data Scientist salaries across experience levels, the visualizations, the descriptive statistics and common sense suggest there might be differences. **This desparity might be due small sample sizes in some experience categories, or outliers affecting the tests' power**. "
   ]
  },
  {
   "cell_type": "markdown",
   "metadata": {},
   "source": [
    "#### 5.2 Experience Level vs. Data Scientists Salary\n",
    "\n",
    "Since the dataset includes only one freelance, two contract, and two part-time Data Scientists, it is not possible to perform normality tests for these categories. As a result, we are left with only full-time employees for analysis. Given the limited data for the other employment types, **we cannot assess the statistical significance of the salary differences across the various employment types for Data Scientists.**"
   ]
  },
  {
   "cell_type": "markdown",
   "metadata": {},
   "source": [
    "#### 5.3 Employee Residence vs. Data Scientists Salary\n",
    "\n",
    "First we will take another look at the values of the employee residence feature, as they are after we encoded the less frequent location as \"Other\"."
   ]
  },
  {
   "cell_type": "code",
   "execution_count": 94,
   "metadata": {},
   "outputs": [
    {
     "data": {
      "text/plain": [
       "employee_residence\n",
       "US       104\n",
       "Other     39\n",
       "DE        15\n",
       "IN        13\n",
       "GB        13\n",
       "CA         8\n",
       "Name: count, dtype: int64"
      ]
     },
     "execution_count": 94,
     "metadata": {},
     "output_type": "execute_result"
    }
   ],
   "source": [
    "data_ds['employee_residence'].value_counts()"
   ]
  },
  {
   "cell_type": "markdown",
   "metadata": {},
   "source": [
    "We will carry out the **Shapiro-Wilk normality test** for each category."
   ]
  },
  {
   "cell_type": "code",
   "execution_count": 95,
   "metadata": {},
   "outputs": [
    {
     "name": "stdout",
     "output_type": "stream",
     "text": [
      "Shapiro-Wilk test for Employee Residence (US):\n",
      "p-value = 0.000\n",
      "p-value is less than 0.05. The data is not distributed normally\n",
      "\n",
      "Shapiro-Wilk test for Employee Residence (Other):\n",
      "p-value = 0.007\n",
      "p-value is less than 0.05. The data is not distributed normally\n",
      "\n",
      "Shapiro-Wilk test for Employee Residence (DE):\n",
      "p-value = 0.060\n",
      "p-value is greater than 0.05. The data is distributed normally\n",
      "\n",
      "Shapiro-Wilk test for Employee Residence (IN):\n",
      "p-value = 0.045\n",
      "p-value is less than 0.05. The data is not distributed normally\n",
      "\n",
      "Shapiro-Wilk test for Employee Residence (GB):\n",
      "p-value = 0.193\n",
      "p-value is greater than 0.05. The data is distributed normally\n",
      "\n",
      "Shapiro-Wilk test for Employee Residence (CA):\n",
      "p-value = 0.192\n",
      "p-value is greater than 0.05. The data is distributed normally\n"
     ]
    }
   ],
   "source": [
    "# filter salary data by Employee Residence\n",
    "us_salaries = data_ds[data_ds['employee_residence'] == 'US']['salary_in_usd']\n",
    "other_salaries = data_ds[data_ds['employee_residence'] == 'Other']['salary_in_usd']\n",
    "de_salaries = data_ds[data_ds['employee_residence'] == 'DE']['salary_in_usd']\n",
    "in_salaries = data_ds[data_ds['employee_residence'] == 'IN']['salary_in_usd']\n",
    "gb_salaries = data_ds[data_ds['employee_residence'] == 'GB']['salary_in_usd']\n",
    "ca_salaries = data_ds[data_ds['employee_residence'] == 'CA']['salary_in_usd']\n",
    "\n",
    "# Shapiro-Wilk test for each category\n",
    "print(\"Shapiro-Wilk test for Employee Residence (US):\")\n",
    "_, p = stats.shapiro(us_salaries)\n",
    "decision_normality(p)\n",
    "\n",
    "print(\"\\nShapiro-Wilk test for Employee Residence (Other):\")\n",
    "_, p = stats.shapiro(other_salaries)\n",
    "decision_normality(p)\n",
    "\n",
    "print(\"\\nShapiro-Wilk test for Employee Residence (DE):\")\n",
    "_, p = stats.shapiro(de_salaries)\n",
    "decision_normality(p)\n",
    "\n",
    "print(\"\\nShapiro-Wilk test for Employee Residence (IN):\")\n",
    "_, p = stats.shapiro(in_salaries)\n",
    "decision_normality(p)\n",
    "\n",
    "print(\"\\nShapiro-Wilk test for Employee Residence (GB):\")\n",
    "_, p = stats.shapiro(gb_salaries)\n",
    "decision_normality(p)\n",
    "\n",
    "print(\"\\nShapiro-Wilk test for Employee Residence (CA):\")\n",
    "_, p = stats.shapiro(ca_salaries)\n",
    "decision_normality(p)\n"
   ]
  },
  {
   "cell_type": "markdown",
   "metadata": {},
   "source": [
    "The salary data is not distributed normally for US, Other, India, so for the further statistical analysis we will use **the Kruskal-Wallis test.**"
   ]
  },
  {
   "cell_type": "code",
   "execution_count": 96,
   "metadata": {},
   "outputs": [
    {
     "name": "stdout",
     "output_type": "stream",
     "text": [
      "p-value = 0.000\n",
      "p-value is less than the given significance level 0.05. Reject the null hypothesis.\n"
     ]
    }
   ],
   "source": [
    "# Kruskal-Wallis test\n",
    "_, p = stats.kruskal(us_salaries, other_salaries, de_salaries, in_salaries, gb_salaries, ca_salaries)\n",
    "decision_hypothesis(p)\n"
   ]
  },
  {
   "cell_type": "markdown",
   "metadata": {},
   "source": [
    "**Conclusion**\n",
    "\n",
    "The Kruskal-Wallis test results indicate that the alternative hypothesis holds true, thus **there is a statistically significant effect of Employee Residence on Data Scientists salaries, with the US residents earning the most, followed by Canadiens, while Indian employess earn the least.**"
   ]
  },
  {
   "cell_type": "markdown",
   "metadata": {},
   "source": [
    "#### 5.4 Remote Ratio vs. Data Scientists Salary\n",
    "\n",
    "We will begin with testing the data for the normality of distribution."
   ]
  },
  {
   "cell_type": "code",
   "execution_count": 97,
   "metadata": {},
   "outputs": [
    {
     "name": "stdout",
     "output_type": "stream",
     "text": [
      "Shapiro-Wilk test for Remote Ratio (0):\n",
      "p-value = 0.372\n",
      "p-value is greater than 0.05. The data is distributed normally\n",
      "Shapiro-Wilk test for Remote Ratio (50):\n",
      "p-value = 0.257\n",
      "p-value is greater than 0.05. The data is distributed normally\n",
      "Shapiro-Wilk test for Remote Ratio (100):\n",
      "p-value = 0.000\n",
      "p-value is less than 0.05. The data is not distributed normally\n"
     ]
    }
   ],
   "source": [
    "# filter salary data by Remote Ratio\n",
    "remote_0_salaries = data_ds[data_ds['remote_ratio'] == 0]['salary_in_usd']\n",
    "remote_50_salaries = data_ds[data_ds['remote_ratio'] == 50]['salary_in_usd']\n",
    "remote_100_salaries = data_ds[data_ds['remote_ratio'] == 100]['salary_in_usd']\n",
    "\n",
    "# Shapiro-Wilk test for each category\n",
    "print(\"Shapiro-Wilk test for Remote Ratio (0):\")\n",
    "_, p = stats.shapiro(remote_0_salaries)\n",
    "decision_normality(p)\n",
    "\n",
    "print(\"Shapiro-Wilk test for Remote Ratio (50):\")\n",
    "_, p = stats.shapiro(remote_50_salaries)\n",
    "decision_normality(p)\n",
    "\n",
    "print(\"Shapiro-Wilk test for Remote Ratio (100):\")\n",
    "_, p = stats.shapiro(remote_100_salaries)\n",
    "decision_normality(p)"
   ]
  },
  {
   "cell_type": "markdown",
   "metadata": {},
   "source": [
    "As the data for 100% remote work is not normaly distributed, we will now try and **normalise the data distribution using the log-transformation**. It works best for the data skewed right (no 0 or negative values), so we will first perform a simple test to see if our data fits the transformation."
   ]
  },
  {
   "cell_type": "code",
   "execution_count": 98,
   "metadata": {},
   "outputs": [
    {
     "name": "stdout",
     "output_type": "stream",
     "text": [
      "0\n"
     ]
    }
   ],
   "source": [
    "print((data_ds['salary_in_usd'] <= 0).sum())  # Count of zero/negative salaries\n"
   ]
  },
  {
   "cell_type": "markdown",
   "metadata": {},
   "source": [
    "The data is right-skewed, so we will apply the log-transformation."
   ]
  },
  {
   "cell_type": "code",
   "execution_count": 99,
   "metadata": {},
   "outputs": [
    {
     "name": "stdout",
     "output_type": "stream",
     "text": [
      "Shapiro-Wilk test for Remote Ratio (0):\n",
      "p-value = 0.372\n",
      "p-value is greater than 0.05. The data is distributed normally\n",
      "\n",
      "Shapiro-Wilk test for Remote Ratio (50):\n",
      "p-value = 0.257\n",
      "p-value is greater than 0.05. The data is distributed normally\n",
      "\n",
      "Shapiro-Wilk test for Remote Ratio (100):\n",
      "p-value = 0.000\n",
      "p-value is less than 0.05. The data is not distributed normally\n"
     ]
    },
    {
     "name": "stderr",
     "output_type": "stream",
     "text": [
      "/var/folders/sf/83dwp_ds2sdd7m59tbgj21kr0000gn/T/ipykernel_54598/1020784166.py:2: SettingWithCopyWarning: \n",
      "A value is trying to be set on a copy of a slice from a DataFrame.\n",
      "Try using .loc[row_indexer,col_indexer] = value instead\n",
      "\n",
      "See the caveats in the documentation: https://pandas.pydata.org/pandas-docs/stable/user_guide/indexing.html#returning-a-view-versus-a-copy\n",
      "  data_ds['salary_in_usd_log'] = data_ds['salary_in_usd']\n",
      "/var/folders/sf/83dwp_ds2sdd7m59tbgj21kr0000gn/T/ipykernel_54598/1020784166.py:5: FutureWarning: Setting an item of incompatible dtype is deprecated and will raise an error in a future version of pandas. Value '[12.15477935 12.69158046 11.13353738 11.54248427 10.73116563 11.2510151\n",
      " 11.56171563 11.90672951 10.56555678 11.6784399  11.83754199 12.92877863\n",
      " 12.15583143 11.56171563 11.9425432  11.24938951 10.81977828 10.60134861\n",
      " 11.92503512 11.28978191 11.32055357 11.91839057 11.2355105   9.50300999\n",
      " 11.87756858 11.68737445 12.36734079 10.59758428  8.64453044 11.15254366\n",
      " 11.9316358  12.06681058 11.40756495 10.54072554 11.98292909 12.93844054\n",
      " 11.38211038 10.75383077 11.5491706  12.01370075 11.40756495 10.25410921\n",
      " 12.06544183  9.73530556 10.14768785 11.51292546 11.56171563 11.82495863\n",
      " 11.5065049  11.8913619  11.71993963 12.0150332  11.69657947 12.31940133\n",
      " 12.03097493 11.99128161 11.82876487 12.02574909 11.71993963 12.26198028\n",
      " 11.83934737 12.04355372 11.71993963 12.27978768 11.97161533 12.10071213\n",
      " 12.46843691 11.00209984 12.39255221 11.97665948 10.36138697  9.82238595\n",
      " 11.99950348 11.56066746 11.8493977  12.30138283 11.8493977  12.1286515\n",
      " 12.20607265 11.69524702 12.34583459 11.51292546 10.47981998 11.51292546\n",
      " 12.01370075 10.86658553 10.59663473 11.96400108 10.77895629 11.93491988\n",
      " 12.84792653 11.14671953 11.81303006 12.08390501 11.26446411 12.07823927\n",
      " 11.87756858 11.8493977  12.25486281 11.8493977  12.25486281 11.8493977\n",
      " 12.25486281 11.8493977  12.34583459 11.91839057 12.25486281 11.98292909\n",
      " 11.77528973]' has dtype incompatible with int64, please explicitly cast to a compatible dtype first.\n",
      "  data_ds.loc[data_ds['remote_ratio'] == 100, 'salary_in_usd_log'] = np.log(\n"
     ]
    }
   ],
   "source": [
    "# create a new column for square root-transformed salaries\n",
    "data_ds['salary_in_usd_log'] = data_ds['salary_in_usd']\n",
    "\n",
    "# log-transformation only to the 100% remote category\n",
    "data_ds.loc[data_ds['remote_ratio'] == 100, 'salary_in_usd_log'] = np.log(\n",
    "    data_ds.loc[data_ds['remote_ratio'] == 100, 'salary_in_usd']\n",
    ")\n",
    "\n",
    "# filter salary data by Remote Ratio\n",
    "remote_0_salaries = data_ds[data_ds['remote_ratio'] == 0]['salary_in_usd_log']\n",
    "remote_50_salaries = data_ds[data_ds['remote_ratio'] == 50]['salary_in_usd_log']\n",
    "remote_100_salaries = data_ds[data_ds['remote_ratio'] == 100]['salary_in_usd_log']\n",
    "\n",
    "# Shapiro-Wilk test for each category\n",
    "print(\"Shapiro-Wilk test for Remote Ratio (0):\")\n",
    "_, p = stats.shapiro(remote_0_salaries)\n",
    "decision_normality(p)\n",
    "\n",
    "print(\"\\nShapiro-Wilk test for Remote Ratio (50):\")\n",
    "_, p = stats.shapiro(remote_50_salaries)\n",
    "decision_normality(p)\n",
    "\n",
    "print(\"\\nShapiro-Wilk test for Remote Ratio (100):\")\n",
    "_, p = stats.shapiro(remote_100_salaries)\n",
    "decision_normality(p)\n"
   ]
  },
  {
   "cell_type": "markdown",
   "metadata": {},
   "source": [
    "As the attempts to normalise the data failed (we've also tried the square-root transformation), we will proceed with **the Kruskal-Wallis test** to establish the statistical significance of the effect the Remote Ratio has on Data Scientists salaries."
   ]
  },
  {
   "cell_type": "code",
   "execution_count": 100,
   "metadata": {},
   "outputs": [
    {
     "name": "stdout",
     "output_type": "stream",
     "text": [
      "p-value = 0.000\n",
      "p-value is less than the given significance level 0.05. Reject the null hypothesis.\n"
     ]
    }
   ],
   "source": [
    "# Kruskal-Wallis test to compare salaries across different remote ratios\n",
    "_, p_value = stats.kruskal(remote_0_salaries, remote_50_salaries, remote_100_salaries)\n",
    "decision_hypothesis(p_value)\n"
   ]
  },
  {
   "cell_type": "markdown",
   "metadata": {},
   "source": [
    "**Conclusion**\n",
    "\n",
    "The results of Kruskal-Wallis test allow us to reject the null-hypothesis, meaning that **there is a significant effect of Remote Ration on Data Scientists Salary, with 100% remote employees making the most, and 50% remote employees - the least.**"
   ]
  },
  {
   "cell_type": "markdown",
   "metadata": {},
   "source": [
    "#### 5.5 Company Location vs. Data Scientists Salary\n",
    "\n",
    "Same as with Employee Residence we will begin with printing out the count of unique values for Company Location as they are after encoding the rare locations into the \"Other\" category. "
   ]
  },
  {
   "cell_type": "code",
   "execution_count": 102,
   "metadata": {},
   "outputs": [
    {
     "data": {
      "text/plain": [
       "company_location\n",
       "US       110\n",
       "Other     36\n",
       "DE        15\n",
       "GB        12\n",
       "IN        11\n",
       "CA         8\n",
       "Name: count, dtype: int64"
      ]
     },
     "execution_count": 102,
     "metadata": {},
     "output_type": "execute_result"
    }
   ],
   "source": [
    "data_ds['company_location'].value_counts()"
   ]
  },
  {
   "cell_type": "code",
   "execution_count": 103,
   "metadata": {},
   "outputs": [
    {
     "name": "stdout",
     "output_type": "stream",
     "text": [
      "Shapiro-Wilk test for Company Location (US):\n",
      "p-value = 0.000\n",
      "p-value is less than 0.05. The data is not distributed normally\n",
      "Shapiro-Wilk test for Company Location (Other):\n",
      "p-value = 0.006\n",
      "p-value is less than 0.05. The data is not distributed normally\n",
      "Shapiro-Wilk test for Company Location (DE):\n",
      "p-value = 0.361\n",
      "p-value is greater than 0.05. The data is distributed normally\n",
      "Shapiro-Wilk test for Company Location (GB):\n",
      "p-value = 0.335\n",
      "p-value is greater than 0.05. The data is distributed normally\n",
      "Shapiro-Wilk test for Company Location (IN):\n",
      "p-value = 0.012\n",
      "p-value is less than 0.05. The data is not distributed normally\n",
      "Shapiro-Wilk test for Company Location (CA):\n",
      "p-value = 0.109\n",
      "p-value is greater than 0.05. The data is distributed normally\n"
     ]
    }
   ],
   "source": [
    "# filter salary data by Company Location\n",
    "company_us_salaries = data_ds[data_ds['company_location'] == 'US']['salary_in_usd']\n",
    "company_other_salaries = data_ds[data_ds['company_location'] == 'Other']['salary_in_usd']\n",
    "company_de_salaries = data_ds[data_ds['company_location'] == 'DE']['salary_in_usd']\n",
    "company_gb_salaries = data_ds[data_ds['company_location'] == 'GB']['salary_in_usd']\n",
    "company_in_salaries = data_ds[data_ds['company_location'] == 'IN']['salary_in_usd']\n",
    "company_ca_salaries = data_ds[data_ds['company_location'] == 'CA']['salary_in_usd']\n",
    "\n",
    "# Shapiro-Wilk test for each category\n",
    "print(\"Shapiro-Wilk test for Company Location (US):\")\n",
    "_, p = stats.shapiro(company_us_salaries)\n",
    "decision_normality(p)\n",
    "\n",
    "print(\"Shapiro-Wilk test for Company Location (Other):\")\n",
    "_, p = stats.shapiro(company_other_salaries)\n",
    "decision_normality(p)\n",
    "\n",
    "print(\"Shapiro-Wilk test for Company Location (DE):\")\n",
    "_, p = stats.shapiro(company_de_salaries)\n",
    "decision_normality(p)\n",
    "\n",
    "print(\"Shapiro-Wilk test for Company Location (GB):\")\n",
    "_, p = stats.shapiro(company_gb_salaries)\n",
    "decision_normality(p)\n",
    "\n",
    "print(\"Shapiro-Wilk test for Company Location (IN):\")\n",
    "_, p = stats.shapiro(company_in_salaries)\n",
    "decision_normality(p)\n",
    "\n",
    "print(\"Shapiro-Wilk test for Company Location (CA):\")\n",
    "_, p = stats.shapiro(company_ca_salaries)\n",
    "decision_normality(p)\n"
   ]
  },
  {
   "cell_type": "markdown",
   "metadata": {},
   "source": [
    "The data in three out of six categories is not distributed normally, we will proceed with **the Kruskal-Wallis test**."
   ]
  },
  {
   "cell_type": "code",
   "execution_count": 104,
   "metadata": {},
   "outputs": [
    {
     "name": "stdout",
     "output_type": "stream",
     "text": [
      "p-value = 0.000\n",
      "p-value is less than the given significance level 0.05. Reject the null hypothesis.\n"
     ]
    }
   ],
   "source": [
    "# Kruskal-Wallis test\n",
    "_, p = stats.kruskal(company_us_salaries, company_other_salaries, company_de_salaries, company_in_salaries, company_gb_salaries, company_ca_salaries)\n",
    "decision_hypothesis(p)\n"
   ]
  },
  {
   "cell_type": "markdown",
   "metadata": {},
   "source": [
    "**Conclusion**\n",
    "\n",
    "According to the Kruskal-Wallis test results we can conclude that **there is a statistically significant differences between the salaries paid to Data Scientists by companies in different countries, with the highest rates paid in US, followed by Germany and Canada, and the lowest - in India.**"
   ]
  },
  {
   "cell_type": "markdown",
   "metadata": {},
   "source": [
    "**Overall Research Conclusion**\n",
    "\n",
    "Based on the IT industry salary data from 2020-2022, using descriptive, visual and statistical analysis, we identified several factors that influence the salaries of Data Scientists:\n",
    "\n",
    "1. **Salary Growth Over Time**: Salaries have shown consistent growth year over year.\n",
    "\n",
    "2. **Company Location and Size has an effect on Salaries**: Companies in the US, Germany, and Canada offer the highest salaries for Data Scientists, while companies in India pay the lowest. Additionally, medium-sized companies offer the highest salaries, whereas small companies offer the lowest.\n",
    "\n",
    "3. **Employee Residence and Work Model vs. Salaries**: Employees residing in the US earn the highest salaries, followed by those from Canada. Indian employees earn the lowest salaries. In terms of work model, Data Scientists working 100% remotely earn the most, while those working 50% remotely earn the least.\n",
    "\n",
    "4. **Employment Type Analysis**: The impact of Employment Type on salaries could not be fully assessed due to limited data for categories beyond full-time positions. More data is needed for a conclusive analysis.\n",
    "\n",
    "5. **Experience Level and Salaries**: Although we could not confirm a statistically significant difference in salaries across experience levels, it is likely that such differences exist. Further research with a broader dataset is necessary to get a definitive conclusion.\n",
    "\n",
    "Our other findings are the following:\n",
    "\n",
    "6. **Salary Comparison Between Roles**: Data Scientists earned higher salaries than Data Engineers over the 2020-2022 period. This result contradicts typical industry expectations and thus requires further exploration using a larger sample.\n",
    "\n",
    "7. **Company Size and Role Distribution**: Medium-sized companies employ a roughly equal number of Data Scientists and Data Engineers. In contrast, large and small companies tend to employ more Data Scientists than Data Engineers.\n"
   ]
  }
 ],
 "metadata": {
  "kernelspec": {
   "display_name": "Python 3",
   "language": "python",
   "name": "python3"
  },
  "language_info": {
   "codemirror_mode": {
    "name": "ipython",
    "version": 3
   },
   "file_extension": ".py",
   "mimetype": "text/x-python",
   "name": "python",
   "nbconvert_exporter": "python",
   "pygments_lexer": "ipython3",
   "version": "3.12.1"
  }
 },
 "nbformat": 4,
 "nbformat_minor": 2
}
